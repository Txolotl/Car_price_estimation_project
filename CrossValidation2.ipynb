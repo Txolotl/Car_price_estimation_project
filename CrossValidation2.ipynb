{
 "cells": [
  {
   "cell_type": "code",
   "execution_count": 35,
   "metadata": {},
   "outputs": [],
   "source": [
    "import pandas as pd\n",
    "import numpy as np\n",
    "import matplotlib.pyplot as plt\n",
    "from sklearn.model_selection import train_test_split\n",
    "from sklearn import linear_model\n",
    "#Random forest\n",
    "from sklearn.ensemble import RandomForestRegressor\n",
    "#biblioteque pour  comparer\n",
    "from sklearn.metrics import r2_score\n",
    "#Randomized search\n",
    "from sklearn.model_selection import RandomizedSearchCV\n",
    "#Gridsearch\n",
    "from sklearn.model_selection import GridSearchCV\n",
    "#Kfold\n",
    "from sklearn.model_selection import KFold, StratifiedKFold, cross_val_score\n",
    "from sklearn import linear_model, tree, ensemble"
   ]
  },
  {
   "cell_type": "code",
   "execution_count": 36,
   "metadata": {},
   "outputs": [],
   "source": [
    "train_data = pd.read_csv('cars_data.csv')\n",
    "train_data = train_data.drop(['Unnamed: 0'], axis=1)\n",
    "train_data['model'] = train_data['model'].astype('category').cat.codes\n",
    "train_data.dropna(axis=0, inplace=True)\n",
    "#toujours reset index apres dropna\n",
    "train_data=train_data.reset_index()\n",
    "\n",
    "# Faire test sans 'model'\n",
    "# train_data=train_data.drop('model', axis=1)\n",
    "\n",
    "#drop l'index generé par reset_index \n",
    "train_data=train_data.drop('index', axis=1)"
   ]
  },
  {
   "cell_type": "code",
   "execution_count": 37,
   "metadata": {},
   "outputs": [],
   "source": [
    "#Cree une copie pour travailler dans le ML (deep=True) bien garde\n",
    "X = train_data.copy(deep=True)\n",
    "#drop the Price\n",
    "X=X.drop('Price', axis=1)\n",
    "#asigne the y to price\n",
    "y = train_data.Price"
   ]
  },
  {
   "cell_type": "code",
   "execution_count": 38,
   "metadata": {},
   "outputs": [],
   "source": [
    "#on tranform y en array pour travailler avec le modele de ML\n",
    "y=pd.DataFrame(y)"
   ]
  },
  {
   "cell_type": "code",
   "execution_count": 39,
   "metadata": {},
   "outputs": [
    {
     "name": "stdout",
     "output_type": "stream",
     "text": [
      "Shape of input data: (24398, 9) and shape of target variable: (24398, 1)\n",
      "<class 'pandas.core.frame.DataFrame'>\n",
      "RangeIndex: 24398 entries, 0 to 24397\n",
      "Data columns (total 9 columns):\n",
      " #   Column              Non-Null Count  Dtype  \n",
      "---  ------              --------------  -----  \n",
      " 0   model               24398 non-null  int8   \n",
      " 1   year                24398 non-null  int64  \n",
      " 2   Gas Mileage         24398 non-null  float64\n",
      " 3   Engine              24398 non-null  float64\n",
      " 4   Drivetrain          24398 non-null  float64\n",
      " 5   Passenger Capacity  24398 non-null  int64  \n",
      " 6   Passenger Doors     24398 non-null  int64  \n",
      " 7   Body Style          24398 non-null  float64\n",
      " 8   Transmission        24398 non-null  float64\n",
      "dtypes: float64(5), int64(3), int8(1)\n",
      "memory usage: 1.5 MB\n"
     ]
    }
   ],
   "source": [
    "print(\"Shape of input data: {} and shape of target variable: {}\".format(X.shape, y.shape))\n",
    "\n",
    "X.head() # Show first 5 training examples\n",
    "X.info()"
   ]
  },
  {
   "cell_type": "code",
   "execution_count": 40,
   "metadata": {},
   "outputs": [],
   "source": [
    "#Train split test\n",
    "X_train, X_test, y_train, y_test = train_test_split(X, y, test_size = 0.2, random_state = 1)"
   ]
  },
  {
   "cell_type": "code",
   "execution_count": 41,
   "metadata": {},
   "outputs": [],
   "source": [
    "# random forest avant randomized search avec des parametres a la main\n",
    "rf = RandomForestRegressor(n_estimators=1000, max_depth=10)"
   ]
  },
  {
   "cell_type": "code",
   "execution_count": 42,
   "metadata": {},
   "outputs": [
    {
     "data": {
      "text/plain": [
       "RandomForestRegressor(max_depth=10, n_estimators=1000)"
      ]
     },
     "execution_count": 42,
     "metadata": {},
     "output_type": "execute_result"
    }
   ],
   "source": [
    "rf.fit(X_train, y_train.values.ravel())"
   ]
  },
  {
   "cell_type": "code",
   "execution_count": 43,
   "metadata": {},
   "outputs": [],
   "source": [
    "predict_price_test=rf.predict(X_test)\n",
    "predict_price_train=rf.predict(X_train)"
   ]
  },
  {
   "cell_type": "code",
   "execution_count": 44,
   "metadata": {},
   "outputs": [
    {
     "name": "stdout",
     "output_type": "stream",
     "text": [
      "[ 26902.3242317   37899.95141939  30484.43358015 ...  28344.44463268\n",
      " 100171.80770058  24684.82023079]\n",
      "[29998.93287324 32982.29527424 19262.19385645 ... 32959.25156724\n",
      " 21624.15126999 36307.52447692]\n"
     ]
    }
   ],
   "source": [
    "print(predict_price_test)\n",
    "print(predict_price_train)"
   ]
  },
  {
   "cell_type": "code",
   "execution_count": 45,
   "metadata": {},
   "outputs": [
    {
     "name": "stdout",
     "output_type": "stream",
     "text": [
      "R2 test : 0.9247789737770158\n",
      "R2 train : 0.9420741891519756\n"
     ]
    }
   ],
   "source": [
    "#Compare y_test(valeur reels) contre valeurs de prix predictes sur X_test\n",
    "print(\"R2 test :\", r2_score(y_test, predict_price_test))\n",
    "#la grosse entre les R2 test et train, ça veut dire on a overfitte le modele\n",
    "print(\"R2 train :\", r2_score(y_train, predict_price_train))"
   ]
  },
  {
   "cell_type": "code",
   "execution_count": 46,
   "metadata": {},
   "outputs": [
    {
     "name": "stdout",
     "output_type": "stream",
     "text": [
      "n_estimators : [100, 111, 122, 133, 144, 155, 166, 177, 188, 200]\n",
      "Fitting 5 folds for each of 10 candidates, totalling 50 fits\n",
      "Best params : {'n_estimators': 166, 'min_samples_split': 2, 'min_samples_leaf': 1, 'max_features': 'sqrt', 'max_depth': 18, 'bootstrap': True}\n",
      "R2 test : 0.9369812871270111\n",
      "R2 train : 0.9809487929004702\n"
     ]
    }
   ],
   "source": [
    "rf = RandomForestRegressor()\n",
    "\n",
    "#parametres pour randomizedsearch et gridsearch\n",
    "n_estimators = [int(x) for x in np.linspace(start=100, stop=200, num=10)]\n",
    "print(\"n_estimators :\", n_estimators)\n",
    "max_features = [None, 'auto', 'sqrt']\n",
    "max_depth = [10, 14, 18]\n",
    "min_samples_split = [2, 3, 4]\n",
    "min_samples_leaf = [1, 2]\n",
    "bootstrap = [True, False]\n",
    "\n",
    "param_grid = {'n_estimators': n_estimators,\n",
    "'max_features': max_features,\n",
    "'max_depth': max_depth,\n",
    "'min_samples_split': min_samples_split,\n",
    "'min_samples_leaf': min_samples_leaf,\n",
    "'bootstrap': bootstrap}\n",
    "#Appel a rds (enlever les commentaires pour lancer le randomizedsearch)\n",
    "clf = RandomizedSearchCV(estimator=rf, param_distributions=param_grid, verbose=3,\n",
    "n_jobs=2, return_train_score=True, scoring=\"r2\")\n",
    "\n",
    "#Gridsearch, faut utiliser le randomized plutot\n",
    "# clf = GridSearchCV(estimator=rf, param_grid=param_grid, verbose=3,\n",
    "# n_jobs=2, return_train_score=True, scoring=\"r2\")\n",
    "\n",
    "#values.ravel c'est utilise pour arranger l'array \n",
    "#clf va substituer le rf dans le fit\n",
    "clf.fit(X_train, y_train.values.ravel())\n",
    "\n",
    "#Meilleures parametres/config\n",
    "print(\"Best params :\", clf.best_params_)\n",
    "\n",
    "#C'est recuperer le meilleur algorithme trouve par randomized search\n",
    "model = clf.best_estimator_\n",
    "\n",
    "model.fit(X_train, y_train.values.ravel())\n",
    "\n",
    "\n",
    "predict_price_test=clf.predict(X_test)\n",
    "predict_price_train=clf.predict(X_train)\n",
    "\n",
    "#Compare y_test(valeur reels) contre valeurs de prix predictes sur X_test\n",
    "print(\"R2 test :\", r2_score(y_test, predict_price_test))\n",
    "#la grosse entre les R2 test et train, ça veut dire on a overfitte le modele\n",
    "print(\"R2 train :\", r2_score(y_train, predict_price_train))"
   ]
  },
  {
   "cell_type": "code",
   "execution_count": 47,
   "metadata": {},
   "outputs": [
    {
     "name": "stdout",
     "output_type": "stream",
     "text": [
      "n_estimators : [100, 111, 122, 133, 144, 155, 166, 177, 188, 200]\n",
      "Fitting 5 folds for each of 10 candidates, totalling 50 fits\n",
      "Best params : {'n_estimators': 166, 'min_samples_split': 4, 'min_samples_leaf': 1, 'max_features': 'sqrt', 'max_depth': 18, 'bootstrap': False}\n",
      "R2 test : 0.944893264109106\n",
      "R2 train : 0.983807777866807\n"
     ]
    }
   ],
   "source": [
    "# Lets split the data into 5 folds.  \n",
    "# We will use this 'kf'(KFold splitting stratergy) object as input to cross_val_score() method\n",
    "kf =KFold(n_splits=5, shuffle=True, random_state=42)\n",
    "\n",
    "#rf = RandomForestRegressor(n_estimators=1000, max_depth=10) avant randomized search\n",
    "#avec des paramtres a la main\n",
    "\n",
    "rf = RandomForestRegressor()\n",
    "\n",
    "n_estimators = [int(x) for x in np.linspace(start=100, stop=200, num=10)]\n",
    "print(\"n_estimators :\", n_estimators)\n",
    "max_features = [None, 'auto', 'sqrt']\n",
    "max_depth = [10, 14, 18]\n",
    "min_samples_split = [2, 3, 4]\n",
    "min_samples_leaf = [1, 2]\n",
    "bootstrap = [True, False]\n",
    "\n",
    "param_grid = {'n_estimators': n_estimators,\n",
    "'max_features': max_features,\n",
    "'max_depth': max_depth,\n",
    "'min_samples_split': min_samples_split,\n",
    "'min_samples_leaf': min_samples_leaf,\n",
    "'bootstrap': bootstrap}\n",
    "#Appel a rds (enlever les commentaires pour lancer le randomizedsearch)\n",
    "clf = RandomizedSearchCV(estimator=rf, param_distributions=param_grid, verbose=3,\n",
    "n_jobs=2, return_train_score=True, scoring=\"r2\", cv=kf)\n",
    "\n",
    "# #Gridsearch, faut utiliser le randomized plutot\n",
    "# clf = GridSearchCV(estimator=rf, param_grid=param_grid, verbose=3,\n",
    "# n_jobs=2, return_train_score=True, scoring=\"r2\")\n",
    "\n",
    "#values.ravel c'est utilise pour arranger l'array \n",
    "#clf va substituer le rf dans le fit\n",
    "clf.fit(X_train, y_train.values.ravel())\n",
    "\n",
    "#Meilleures parametres/config\n",
    "print(\"Best params :\", clf.best_params_)\n",
    "\n",
    "#C'est recuperer le meilleur algorithme trouve par randomized search\n",
    "model = clf.best_estimator_\n",
    "\n",
    "model.fit(X_train, y_train.values.ravel())\n",
    "\n",
    "\n",
    "predict_price_test=clf.predict(X_test)\n",
    "predict_price_train=clf.predict(X_train)\n",
    "\n",
    "#Compare y_test(valeur reels) contre valeurs de prix predictes sur X_test\n",
    "print(\"R2 test :\", r2_score(y_test, predict_price_test))\n",
    "#la grosse entre les R2 test et train, ça veut dire on a overfitte le modele\n",
    "print(\"R2 train :\", r2_score(y_train, predict_price_train))"
   ]
  },
  {
   "cell_type": "code",
   "execution_count": 48,
   "metadata": {},
   "outputs": [
    {
     "name": "stdout",
     "output_type": "stream",
     "text": [
      "\n",
      "Kfold score mean : 93.5403461758686\n",
      "Kfold std deviation : 0.6601175293978018\n",
      "Kfold accuracy for each kfold : [0.94326836 0.92541105 0.93025703 0.94031162 0.93776924]\n",
      "Kfold variance : 4.357551526182577e-05\n"
     ]
    }
   ],
   "source": [
    "#liée au kfold\n",
    "score = cross_val_score(model, X_train, y_train.values.ravel(), cv=kf, scoring=\"r2\")\n",
    "print(\"\\nKfold score mean :\", score.mean() * 100.0)\n",
    "print(\"Kfold std deviation :\", score.std() * 100.0)\n",
    "print(\"Kfold accuracy for each kfold :\", score)\n",
    "print(\"Kfold variance :\", score.var())"
   ]
  },
  {
   "cell_type": "code",
   "execution_count": 49,
   "metadata": {},
   "outputs": [
    {
     "data": {
      "text/plain": [
       "Text(0.5, 0, 'Relative Importance')"
      ]
     },
     "execution_count": 49,
     "metadata": {},
     "output_type": "execute_result"
    },
    {
     "data": {
      "image/png": "[encoded data removed]",
      "text/plain": [
       "<Figure size 432x288 with 1 Axes>"
      ]
     },
     "metadata": {
      "needs_background": "light"
     },
     "output_type": "display_data"
    }
   ],
   "source": [
    "liste_variables=list(X.columns)\n",
    "importances = model.feature_importances_ #infos donnes par randomforest\n",
    "indices = np.argsort(importances)\n",
    "plt.style.use('fivethirtyeight')\n",
    "%matplotlib inline\n",
    "plt.figure(1)\n",
    "plt.title('Feature Importances')\n",
    "plt.barh(range(len(indices)), importances[indices], color='b', align='center')\n",
    "plt.yticks(range(len(indices)), [liste_variables[i] for i in indices])\n",
    "plt.xlabel('Relative Importance')"
   ]
  }
 ],
 "metadata": {
  "kernelspec": {
   "display_name": "Python 3",
   "language": "python",
   "name": "python3"
  },
  "language_info": {
   "codemirror_mode": {
    "name": "ipython",
    "version": 3
   },
   "file_extension": ".py",
   "mimetype": "text/x-python",
   "name": "python",
   "nbconvert_exporter": "python",
   "pygments_lexer": "ipython3",
   "version": "3.8.5"
  }
 },
 "nbformat": 4,
 "nbformat_minor": 4
}
