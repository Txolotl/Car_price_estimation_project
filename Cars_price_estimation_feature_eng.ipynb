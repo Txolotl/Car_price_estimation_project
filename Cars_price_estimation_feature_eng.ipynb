{
 "cells": [
  {
   "cell_type": "code",
   "execution_count": 87,
   "metadata": {},
   "outputs": [],
   "source": [
    "import pandas as pd\n",
    "import numpy as np"
   ]
  },
  {
   "cell_type": "code",
   "execution_count": 88,
   "metadata": {
    "collapsed": false,
    "jupyter": {
     "outputs_hidden": false
    },
    "pycharm": {
     "name": "#%%\n"
    }
   },
   "outputs": [],
   "source": [
    "import warnings\n",
    "\n",
    "warnings.filterwarnings('ignore')\n"
   ]
  },
  {
   "cell_type": "code",
   "execution_count": 89,
   "metadata": {
    "collapsed": false,
    "jupyter": {
     "outputs_hidden": false
    },
    "pycharm": {
     "name": "#%%\n"
    }
   },
   "outputs": [],
   "source": [
    "df_new = pd.read_csv('fullspecs.csv', low_memory=False, index_col=0, header=None).T"
   ]
  },
  {
   "cell_type": "code",
   "execution_count": 90,
   "metadata": {
    "collapsed": false,
    "jupyter": {
     "outputs_hidden": false
    },
    "pycharm": {
     "name": "#%%\n"
    }
   },
   "outputs": [],
   "source": [
    "# # df = df_new\n",
    "df = df_new.copy()"
   ]
  },
  {
   "cell_type": "code",
   "execution_count": 91,
   "metadata": {
    "collapsed": false,
    "jupyter": {
     "outputs_hidden": false
    },
    "pycharm": {
     "name": "#%%\n"
    }
   },
   "outputs": [
    {
     "data": {
      "text/html": [
       "<div>\n",
       "<style scoped>\n",
       "    .dataframe tbody tr th:only-of-type {\n",
       "        vertical-align: middle;\n",
       "    }\n",
       "\n",
       "    .dataframe tbody tr th {\n",
       "        vertical-align: top;\n",
       "    }\n",
       "\n",
       "    .dataframe thead th {\n",
       "        text-align: right;\n",
       "    }\n",
       "</style>\n",
       "<table border=\"1\" class=\"dataframe\">\n",
       "  <thead>\n",
       "    <tr style=\"text-align: right;\">\n",
       "      <th></th>\n",
       "      <th>NaN</th>\n",
       "      <th>MSRP</th>\n",
       "      <th>Gas Mileage</th>\n",
       "      <th>Engine</th>\n",
       "      <th>EPA Class</th>\n",
       "      <th>Style Name</th>\n",
       "      <th>Drivetrain</th>\n",
       "      <th>Passenger Capacity</th>\n",
       "      <th>Passenger Doors</th>\n",
       "      <th>Body Style</th>\n",
       "      <th>...</th>\n",
       "      <th>Fourth Hip Room (in)</th>\n",
       "      <th>Fourth Leg Room (in)</th>\n",
       "      <th>Fourth Shoulder Room (in)</th>\n",
       "      <th>Fourth Head Room (in)</th>\n",
       "      <th>Fifth Shoulder Room (in)</th>\n",
       "      <th>Fifth Head Room (in)</th>\n",
       "      <th>Fifth Hip Room (in)</th>\n",
       "      <th>Fifth Leg Room (in)</th>\n",
       "      <th>Corrosion Note</th>\n",
       "      <th>Hybrid/Electric Components Note</th>\n",
       "    </tr>\n",
       "  </thead>\n",
       "  <tbody>\n",
       "    <tr>\n",
       "      <th>1</th>\n",
       "      <td>2019 Acura RDX Specs: FWD w/Technology Pkg</td>\n",
       "      <td>$40,600</td>\n",
       "      <td>22 mpg City/28 mpg Hwy</td>\n",
       "      <td>Turbo Premium Unleaded I-4, 2.0 L</td>\n",
       "      <td>Small Sport Utility Vehicles 2WD</td>\n",
       "      <td>FWD w/Technology Pkg</td>\n",
       "      <td>Front Wheel Drive</td>\n",
       "      <td>5</td>\n",
       "      <td>4</td>\n",
       "      <td>Sport Utility</td>\n",
       "      <td>...</td>\n",
       "      <td>NaN</td>\n",
       "      <td>NaN</td>\n",
       "      <td>NaN</td>\n",
       "      <td>NaN</td>\n",
       "      <td>NaN</td>\n",
       "      <td>NaN</td>\n",
       "      <td>NaN</td>\n",
       "      <td>NaN</td>\n",
       "      <td>NaN</td>\n",
       "      <td>NaN</td>\n",
       "    </tr>\n",
       "    <tr>\n",
       "      <th>2</th>\n",
       "      <td>2019 Acura RDX Specs: FWD w/Advance Pkg</td>\n",
       "      <td>$45,500</td>\n",
       "      <td>22 mpg City/28 mpg Hwy</td>\n",
       "      <td>Turbo Premium Unleaded I-4, 2.0 L</td>\n",
       "      <td>Small Sport Utility Vehicles 2WD</td>\n",
       "      <td>FWD w/Advance Pkg</td>\n",
       "      <td>Front Wheel Drive</td>\n",
       "      <td>5</td>\n",
       "      <td>4</td>\n",
       "      <td>Sport Utility</td>\n",
       "      <td>...</td>\n",
       "      <td>NaN</td>\n",
       "      <td>NaN</td>\n",
       "      <td>NaN</td>\n",
       "      <td>NaN</td>\n",
       "      <td>NaN</td>\n",
       "      <td>NaN</td>\n",
       "      <td>NaN</td>\n",
       "      <td>NaN</td>\n",
       "      <td>NaN</td>\n",
       "      <td>NaN</td>\n",
       "    </tr>\n",
       "    <tr>\n",
       "      <th>3</th>\n",
       "      <td>2019 Acura RDX Specs: FWD w/A-Spec Pkg</td>\n",
       "      <td>$43,600</td>\n",
       "      <td>22 mpg City/27 mpg Hwy</td>\n",
       "      <td>Turbo Premium Unleaded I-4, 2.0 L</td>\n",
       "      <td>Small Sport Utility Vehicles 2WD</td>\n",
       "      <td>FWD w/A-Spec Pkg</td>\n",
       "      <td>Front Wheel Drive</td>\n",
       "      <td>5</td>\n",
       "      <td>4</td>\n",
       "      <td>Sport Utility</td>\n",
       "      <td>...</td>\n",
       "      <td>NaN</td>\n",
       "      <td>NaN</td>\n",
       "      <td>NaN</td>\n",
       "      <td>NaN</td>\n",
       "      <td>NaN</td>\n",
       "      <td>NaN</td>\n",
       "      <td>NaN</td>\n",
       "      <td>NaN</td>\n",
       "      <td>NaN</td>\n",
       "      <td>NaN</td>\n",
       "    </tr>\n",
       "    <tr>\n",
       "      <th>4</th>\n",
       "      <td>2019 Acura RDX Specs: FWD</td>\n",
       "      <td>$37,400</td>\n",
       "      <td>22 mpg City/28 mpg Hwy</td>\n",
       "      <td>Turbo Premium Unleaded I-4, 2.0 L</td>\n",
       "      <td>Small Sport Utility Vehicles 2WD</td>\n",
       "      <td>FWD</td>\n",
       "      <td>Front Wheel Drive</td>\n",
       "      <td>5</td>\n",
       "      <td>4</td>\n",
       "      <td>Sport Utility</td>\n",
       "      <td>...</td>\n",
       "      <td>NaN</td>\n",
       "      <td>NaN</td>\n",
       "      <td>NaN</td>\n",
       "      <td>NaN</td>\n",
       "      <td>NaN</td>\n",
       "      <td>NaN</td>\n",
       "      <td>NaN</td>\n",
       "      <td>NaN</td>\n",
       "      <td>NaN</td>\n",
       "      <td>NaN</td>\n",
       "    </tr>\n",
       "  </tbody>\n",
       "</table>\n",
       "<p>4 rows × 235 columns</p>\n",
       "</div>"
      ],
      "text/plain": [
       "0                                         NaN     MSRP  \\\n",
       "1  2019 Acura RDX Specs: FWD w/Technology Pkg  $40,600   \n",
       "2     2019 Acura RDX Specs: FWD w/Advance Pkg  $45,500   \n",
       "3      2019 Acura RDX Specs: FWD w/A-Spec Pkg  $43,600   \n",
       "4                   2019 Acura RDX Specs: FWD  $37,400   \n",
       "\n",
       "0             Gas Mileage                             Engine  \\\n",
       "1  22 mpg City/28 mpg Hwy  Turbo Premium Unleaded I-4, 2.0 L   \n",
       "2  22 mpg City/28 mpg Hwy  Turbo Premium Unleaded I-4, 2.0 L   \n",
       "3  22 mpg City/27 mpg Hwy  Turbo Premium Unleaded I-4, 2.0 L   \n",
       "4  22 mpg City/28 mpg Hwy  Turbo Premium Unleaded I-4, 2.0 L   \n",
       "\n",
       "0                         EPA Class            Style Name         Drivetrain  \\\n",
       "1  Small Sport Utility Vehicles 2WD  FWD w/Technology Pkg  Front Wheel Drive   \n",
       "2  Small Sport Utility Vehicles 2WD     FWD w/Advance Pkg  Front Wheel Drive   \n",
       "3  Small Sport Utility Vehicles 2WD      FWD w/A-Spec Pkg  Front Wheel Drive   \n",
       "4  Small Sport Utility Vehicles 2WD                   FWD  Front Wheel Drive   \n",
       "\n",
       "0 Passenger Capacity Passenger Doors     Body Style  ... Fourth Hip Room (in)  \\\n",
       "1                  5               4  Sport Utility  ...                  NaN   \n",
       "2                  5               4  Sport Utility  ...                  NaN   \n",
       "3                  5               4  Sport Utility  ...                  NaN   \n",
       "4                  5               4  Sport Utility  ...                  NaN   \n",
       "\n",
       "0 Fourth Leg Room (in) Fourth Shoulder Room (in) Fourth Head Room (in)  \\\n",
       "1                  NaN                       NaN                   NaN   \n",
       "2                  NaN                       NaN                   NaN   \n",
       "3                  NaN                       NaN                   NaN   \n",
       "4                  NaN                       NaN                   NaN   \n",
       "\n",
       "0 Fifth Shoulder Room (in) Fifth Head Room (in) Fifth Hip Room (in)  \\\n",
       "1                      NaN                  NaN                 NaN   \n",
       "2                      NaN                  NaN                 NaN   \n",
       "3                      NaN                  NaN                 NaN   \n",
       "4                      NaN                  NaN                 NaN   \n",
       "\n",
       "0 Fifth Leg Room (in) Corrosion Note Hybrid/Electric Components Note  \n",
       "1                 NaN            NaN                             NaN  \n",
       "2                 NaN            NaN                             NaN  \n",
       "3                 NaN            NaN                             NaN  \n",
       "4                 NaN            NaN                             NaN  \n",
       "\n",
       "[4 rows x 235 columns]"
      ]
     },
     "execution_count": 91,
     "metadata": {},
     "output_type": "execute_result"
    }
   ],
   "source": [
    "df.head(4)"
   ]
  },
  {
   "cell_type": "code",
   "execution_count": 92,
   "metadata": {
    "collapsed": false,
    "jupyter": {
     "outputs_hidden": false
    },
    "pycharm": {
     "name": "#%%\n"
    }
   },
   "outputs": [],
   "source": [
    "df.rename(columns={np.nan: \"model\", \"MSRP\":\"Price\"}, inplace=True)"
   ]
  },
  {
   "cell_type": "code",
   "execution_count": 93,
   "metadata": {
    "collapsed": false,
    "jupyter": {
     "outputs_hidden": false
    },
    "pycharm": {
     "name": "#%%\n"
    }
   },
   "outputs": [
    {
     "data": {
      "text/html": [
       "<div>\n",
       "<style scoped>\n",
       "    .dataframe tbody tr th:only-of-type {\n",
       "        vertical-align: middle;\n",
       "    }\n",
       "\n",
       "    .dataframe tbody tr th {\n",
       "        vertical-align: top;\n",
       "    }\n",
       "\n",
       "    .dataframe thead th {\n",
       "        text-align: right;\n",
       "    }\n",
       "</style>\n",
       "<table border=\"1\" class=\"dataframe\">\n",
       "  <thead>\n",
       "    <tr style=\"text-align: right;\">\n",
       "      <th></th>\n",
       "      <th>model</th>\n",
       "      <th>Price</th>\n",
       "      <th>Gas Mileage</th>\n",
       "      <th>Engine</th>\n",
       "      <th>EPA Class</th>\n",
       "      <th>Style Name</th>\n",
       "      <th>Drivetrain</th>\n",
       "      <th>Passenger Capacity</th>\n",
       "      <th>Passenger Doors</th>\n",
       "      <th>Body Style</th>\n",
       "      <th>...</th>\n",
       "      <th>Fourth Hip Room (in)</th>\n",
       "      <th>Fourth Leg Room (in)</th>\n",
       "      <th>Fourth Shoulder Room (in)</th>\n",
       "      <th>Fourth Head Room (in)</th>\n",
       "      <th>Fifth Shoulder Room (in)</th>\n",
       "      <th>Fifth Head Room (in)</th>\n",
       "      <th>Fifth Hip Room (in)</th>\n",
       "      <th>Fifth Leg Room (in)</th>\n",
       "      <th>Corrosion Note</th>\n",
       "      <th>Hybrid/Electric Components Note</th>\n",
       "    </tr>\n",
       "  </thead>\n",
       "  <tbody>\n",
       "    <tr>\n",
       "      <th>1</th>\n",
       "      <td>2019 Acura RDX Specs: FWD w/Technology Pkg</td>\n",
       "      <td>$40,600</td>\n",
       "      <td>22 mpg City/28 mpg Hwy</td>\n",
       "      <td>Turbo Premium Unleaded I-4, 2.0 L</td>\n",
       "      <td>Small Sport Utility Vehicles 2WD</td>\n",
       "      <td>FWD w/Technology Pkg</td>\n",
       "      <td>Front Wheel Drive</td>\n",
       "      <td>5</td>\n",
       "      <td>4</td>\n",
       "      <td>Sport Utility</td>\n",
       "      <td>...</td>\n",
       "      <td>NaN</td>\n",
       "      <td>NaN</td>\n",
       "      <td>NaN</td>\n",
       "      <td>NaN</td>\n",
       "      <td>NaN</td>\n",
       "      <td>NaN</td>\n",
       "      <td>NaN</td>\n",
       "      <td>NaN</td>\n",
       "      <td>NaN</td>\n",
       "      <td>NaN</td>\n",
       "    </tr>\n",
       "    <tr>\n",
       "      <th>2</th>\n",
       "      <td>2019 Acura RDX Specs: FWD w/Advance Pkg</td>\n",
       "      <td>$45,500</td>\n",
       "      <td>22 mpg City/28 mpg Hwy</td>\n",
       "      <td>Turbo Premium Unleaded I-4, 2.0 L</td>\n",
       "      <td>Small Sport Utility Vehicles 2WD</td>\n",
       "      <td>FWD w/Advance Pkg</td>\n",
       "      <td>Front Wheel Drive</td>\n",
       "      <td>5</td>\n",
       "      <td>4</td>\n",
       "      <td>Sport Utility</td>\n",
       "      <td>...</td>\n",
       "      <td>NaN</td>\n",
       "      <td>NaN</td>\n",
       "      <td>NaN</td>\n",
       "      <td>NaN</td>\n",
       "      <td>NaN</td>\n",
       "      <td>NaN</td>\n",
       "      <td>NaN</td>\n",
       "      <td>NaN</td>\n",
       "      <td>NaN</td>\n",
       "      <td>NaN</td>\n",
       "    </tr>\n",
       "    <tr>\n",
       "      <th>3</th>\n",
       "      <td>2019 Acura RDX Specs: FWD w/A-Spec Pkg</td>\n",
       "      <td>$43,600</td>\n",
       "      <td>22 mpg City/27 mpg Hwy</td>\n",
       "      <td>Turbo Premium Unleaded I-4, 2.0 L</td>\n",
       "      <td>Small Sport Utility Vehicles 2WD</td>\n",
       "      <td>FWD w/A-Spec Pkg</td>\n",
       "      <td>Front Wheel Drive</td>\n",
       "      <td>5</td>\n",
       "      <td>4</td>\n",
       "      <td>Sport Utility</td>\n",
       "      <td>...</td>\n",
       "      <td>NaN</td>\n",
       "      <td>NaN</td>\n",
       "      <td>NaN</td>\n",
       "      <td>NaN</td>\n",
       "      <td>NaN</td>\n",
       "      <td>NaN</td>\n",
       "      <td>NaN</td>\n",
       "      <td>NaN</td>\n",
       "      <td>NaN</td>\n",
       "      <td>NaN</td>\n",
       "    </tr>\n",
       "    <tr>\n",
       "      <th>4</th>\n",
       "      <td>2019 Acura RDX Specs: FWD</td>\n",
       "      <td>$37,400</td>\n",
       "      <td>22 mpg City/28 mpg Hwy</td>\n",
       "      <td>Turbo Premium Unleaded I-4, 2.0 L</td>\n",
       "      <td>Small Sport Utility Vehicles 2WD</td>\n",
       "      <td>FWD</td>\n",
       "      <td>Front Wheel Drive</td>\n",
       "      <td>5</td>\n",
       "      <td>4</td>\n",
       "      <td>Sport Utility</td>\n",
       "      <td>...</td>\n",
       "      <td>NaN</td>\n",
       "      <td>NaN</td>\n",
       "      <td>NaN</td>\n",
       "      <td>NaN</td>\n",
       "      <td>NaN</td>\n",
       "      <td>NaN</td>\n",
       "      <td>NaN</td>\n",
       "      <td>NaN</td>\n",
       "      <td>NaN</td>\n",
       "      <td>NaN</td>\n",
       "    </tr>\n",
       "  </tbody>\n",
       "</table>\n",
       "<p>4 rows × 235 columns</p>\n",
       "</div>"
      ],
      "text/plain": [
       "0                                       model    Price  \\\n",
       "1  2019 Acura RDX Specs: FWD w/Technology Pkg  $40,600   \n",
       "2     2019 Acura RDX Specs: FWD w/Advance Pkg  $45,500   \n",
       "3      2019 Acura RDX Specs: FWD w/A-Spec Pkg  $43,600   \n",
       "4                   2019 Acura RDX Specs: FWD  $37,400   \n",
       "\n",
       "0             Gas Mileage                             Engine  \\\n",
       "1  22 mpg City/28 mpg Hwy  Turbo Premium Unleaded I-4, 2.0 L   \n",
       "2  22 mpg City/28 mpg Hwy  Turbo Premium Unleaded I-4, 2.0 L   \n",
       "3  22 mpg City/27 mpg Hwy  Turbo Premium Unleaded I-4, 2.0 L   \n",
       "4  22 mpg City/28 mpg Hwy  Turbo Premium Unleaded I-4, 2.0 L   \n",
       "\n",
       "0                         EPA Class            Style Name         Drivetrain  \\\n",
       "1  Small Sport Utility Vehicles 2WD  FWD w/Technology Pkg  Front Wheel Drive   \n",
       "2  Small Sport Utility Vehicles 2WD     FWD w/Advance Pkg  Front Wheel Drive   \n",
       "3  Small Sport Utility Vehicles 2WD      FWD w/A-Spec Pkg  Front Wheel Drive   \n",
       "4  Small Sport Utility Vehicles 2WD                   FWD  Front Wheel Drive   \n",
       "\n",
       "0 Passenger Capacity Passenger Doors     Body Style  ... Fourth Hip Room (in)  \\\n",
       "1                  5               4  Sport Utility  ...                  NaN   \n",
       "2                  5               4  Sport Utility  ...                  NaN   \n",
       "3                  5               4  Sport Utility  ...                  NaN   \n",
       "4                  5               4  Sport Utility  ...                  NaN   \n",
       "\n",
       "0 Fourth Leg Room (in) Fourth Shoulder Room (in) Fourth Head Room (in)  \\\n",
       "1                  NaN                       NaN                   NaN   \n",
       "2                  NaN                       NaN                   NaN   \n",
       "3                  NaN                       NaN                   NaN   \n",
       "4                  NaN                       NaN                   NaN   \n",
       "\n",
       "0 Fifth Shoulder Room (in) Fifth Head Room (in) Fifth Hip Room (in)  \\\n",
       "1                      NaN                  NaN                 NaN   \n",
       "2                      NaN                  NaN                 NaN   \n",
       "3                      NaN                  NaN                 NaN   \n",
       "4                      NaN                  NaN                 NaN   \n",
       "\n",
       "0 Fifth Leg Room (in) Corrosion Note Hybrid/Electric Components Note  \n",
       "1                 NaN            NaN                             NaN  \n",
       "2                 NaN            NaN                             NaN  \n",
       "3                 NaN            NaN                             NaN  \n",
       "4                 NaN            NaN                             NaN  \n",
       "\n",
       "[4 rows x 235 columns]"
      ]
     },
     "execution_count": 93,
     "metadata": {},
     "output_type": "execute_result"
    }
   ],
   "source": [
    "df.head(4)"
   ]
  },
  {
   "cell_type": "code",
   "execution_count": 94,
   "metadata": {
    "collapsed": false,
    "jupyter": {
     "outputs_hidden": false
    },
    "pycharm": {
     "name": "#%%\n"
    }
   },
   "outputs": [],
   "source": [
    "# df.columns.tolist()"
   ]
  },
  {
   "cell_type": "code",
   "execution_count": 95,
   "metadata": {
    "collapsed": false,
    "jupyter": {
     "outputs_hidden": false
    },
    "pycharm": {
     "name": "#%%\n"
    }
   },
   "outputs": [],
   "source": [
    "columns_to_keep=['model', 'Price', 'Gas Mileage',  'Engine', 'Drivetrain', 'Passenger Capacity',  'Passenger Doors',  'Body Style',  'Transmission']"
   ]
  },
  {
   "cell_type": "code",
   "execution_count": 96,
   "metadata": {
    "collapsed": false,
    "jupyter": {
     "outputs_hidden": false
    },
    "pycharm": {
     "name": "#%%\n"
    }
   },
   "outputs": [],
   "source": [
    "data=df[columns_to_keep]"
   ]
  },
  {
   "cell_type": "code",
   "execution_count": 97,
   "metadata": {
    "collapsed": false,
    "jupyter": {
     "outputs_hidden": false
    },
    "pycharm": {
     "name": "#%%\n"
    }
   },
   "outputs": [
    {
     "data": {
      "text/html": [
       "<div>\n",
       "<style scoped>\n",
       "    .dataframe tbody tr th:only-of-type {\n",
       "        vertical-align: middle;\n",
       "    }\n",
       "\n",
       "    .dataframe tbody tr th {\n",
       "        vertical-align: top;\n",
       "    }\n",
       "\n",
       "    .dataframe thead th {\n",
       "        text-align: right;\n",
       "    }\n",
       "</style>\n",
       "<table border=\"1\" class=\"dataframe\">\n",
       "  <thead>\n",
       "    <tr style=\"text-align: right;\">\n",
       "      <th></th>\n",
       "      <th>model</th>\n",
       "      <th>Price</th>\n",
       "      <th>Gas Mileage</th>\n",
       "      <th>Engine</th>\n",
       "      <th>Drivetrain</th>\n",
       "      <th>Passenger Capacity</th>\n",
       "      <th>Passenger Doors</th>\n",
       "      <th>Body Style</th>\n",
       "      <th>Transmission</th>\n",
       "    </tr>\n",
       "  </thead>\n",
       "  <tbody>\n",
       "    <tr>\n",
       "      <th>1</th>\n",
       "      <td>2019 Acura RDX Specs: FWD w/Technology Pkg</td>\n",
       "      <td>$40,600</td>\n",
       "      <td>22 mpg City/28 mpg Hwy</td>\n",
       "      <td>Turbo Premium Unleaded I-4, 2.0 L</td>\n",
       "      <td>Front Wheel Drive</td>\n",
       "      <td>5</td>\n",
       "      <td>4</td>\n",
       "      <td>Sport Utility</td>\n",
       "      <td>Transmission: 10-Speed Automatic -inc: sequent...</td>\n",
       "    </tr>\n",
       "    <tr>\n",
       "      <th>2</th>\n",
       "      <td>2019 Acura RDX Specs: FWD w/Advance Pkg</td>\n",
       "      <td>$45,500</td>\n",
       "      <td>22 mpg City/28 mpg Hwy</td>\n",
       "      <td>Turbo Premium Unleaded I-4, 2.0 L</td>\n",
       "      <td>Front Wheel Drive</td>\n",
       "      <td>5</td>\n",
       "      <td>4</td>\n",
       "      <td>Sport Utility</td>\n",
       "      <td>Transmission: 10-Speed Automatic -inc: sequent...</td>\n",
       "    </tr>\n",
       "    <tr>\n",
       "      <th>3</th>\n",
       "      <td>2019 Acura RDX Specs: FWD w/A-Spec Pkg</td>\n",
       "      <td>$43,600</td>\n",
       "      <td>22 mpg City/27 mpg Hwy</td>\n",
       "      <td>Turbo Premium Unleaded I-4, 2.0 L</td>\n",
       "      <td>Front Wheel Drive</td>\n",
       "      <td>5</td>\n",
       "      <td>4</td>\n",
       "      <td>Sport Utility</td>\n",
       "      <td>Transmission: 10-Speed Automatic -inc: sequent...</td>\n",
       "    </tr>\n",
       "    <tr>\n",
       "      <th>4</th>\n",
       "      <td>2019 Acura RDX Specs: FWD</td>\n",
       "      <td>$37,400</td>\n",
       "      <td>22 mpg City/28 mpg Hwy</td>\n",
       "      <td>Turbo Premium Unleaded I-4, 2.0 L</td>\n",
       "      <td>Front Wheel Drive</td>\n",
       "      <td>5</td>\n",
       "      <td>4</td>\n",
       "      <td>Sport Utility</td>\n",
       "      <td>Transmission: 10-Speed Automatic -inc: sequent...</td>\n",
       "    </tr>\n",
       "  </tbody>\n",
       "</table>\n",
       "</div>"
      ],
      "text/plain": [
       "0                                       model    Price  \\\n",
       "1  2019 Acura RDX Specs: FWD w/Technology Pkg  $40,600   \n",
       "2     2019 Acura RDX Specs: FWD w/Advance Pkg  $45,500   \n",
       "3      2019 Acura RDX Specs: FWD w/A-Spec Pkg  $43,600   \n",
       "4                   2019 Acura RDX Specs: FWD  $37,400   \n",
       "\n",
       "0             Gas Mileage                             Engine  \\\n",
       "1  22 mpg City/28 mpg Hwy  Turbo Premium Unleaded I-4, 2.0 L   \n",
       "2  22 mpg City/28 mpg Hwy  Turbo Premium Unleaded I-4, 2.0 L   \n",
       "3  22 mpg City/27 mpg Hwy  Turbo Premium Unleaded I-4, 2.0 L   \n",
       "4  22 mpg City/28 mpg Hwy  Turbo Premium Unleaded I-4, 2.0 L   \n",
       "\n",
       "0         Drivetrain Passenger Capacity Passenger Doors     Body Style  \\\n",
       "1  Front Wheel Drive                  5               4  Sport Utility   \n",
       "2  Front Wheel Drive                  5               4  Sport Utility   \n",
       "3  Front Wheel Drive                  5               4  Sport Utility   \n",
       "4  Front Wheel Drive                  5               4  Sport Utility   \n",
       "\n",
       "0                                       Transmission  \n",
       "1  Transmission: 10-Speed Automatic -inc: sequent...  \n",
       "2  Transmission: 10-Speed Automatic -inc: sequent...  \n",
       "3  Transmission: 10-Speed Automatic -inc: sequent...  \n",
       "4  Transmission: 10-Speed Automatic -inc: sequent...  "
      ]
     },
     "execution_count": 97,
     "metadata": {},
     "output_type": "execute_result"
    }
   ],
   "source": [
    "data.head(4)"
   ]
  },
  {
   "cell_type": "code",
   "execution_count": 98,
   "metadata": {
    "collapsed": false,
    "jupyter": {
     "outputs_hidden": false
    },
    "pycharm": {
     "name": "#%%\n"
    }
   },
   "outputs": [],
   "source": [
    "# print(df.loc[588, 'Transmission'])\n",
    "# for value in columns_to_keep:\n",
    "#     print(f' the column {value}: {df[value].isnull().values.any()} : {df[value].isnull().sum()}')"
   ]
  },
  {
   "cell_type": "code",
   "execution_count": 99,
   "metadata": {
    "collapsed": false,
    "jupyter": {
     "outputs_hidden": false
    },
    "pycharm": {
     "name": "#%%\n"
    }
   },
   "outputs": [],
   "source": [
    "data_model = [val.split(' ')[1] for val in data['model'].values]\n",
    "data_year = [val.split(' ')[0] for val in data['model'].values]\n",
    "\n",
    "data['model'] = data_model\n",
    "data.insert(1, 'year', data_year, True)"
   ]
  },
  {
   "cell_type": "code",
   "execution_count": 100,
   "metadata": {
    "collapsed": false,
    "jupyter": {
     "outputs_hidden": false
    },
    "pycharm": {
     "name": "#%%\n"
    }
   },
   "outputs": [
    {
     "data": {
      "text/html": [
       "<div>\n",
       "<style scoped>\n",
       "    .dataframe tbody tr th:only-of-type {\n",
       "        vertical-align: middle;\n",
       "    }\n",
       "\n",
       "    .dataframe tbody tr th {\n",
       "        vertical-align: top;\n",
       "    }\n",
       "\n",
       "    .dataframe thead th {\n",
       "        text-align: right;\n",
       "    }\n",
       "</style>\n",
       "<table border=\"1\" class=\"dataframe\">\n",
       "  <thead>\n",
       "    <tr style=\"text-align: right;\">\n",
       "      <th></th>\n",
       "      <th>model</th>\n",
       "      <th>year</th>\n",
       "      <th>Price</th>\n",
       "      <th>Gas Mileage</th>\n",
       "      <th>Engine</th>\n",
       "      <th>Drivetrain</th>\n",
       "      <th>Passenger Capacity</th>\n",
       "      <th>Passenger Doors</th>\n",
       "      <th>Body Style</th>\n",
       "      <th>Transmission</th>\n",
       "    </tr>\n",
       "  </thead>\n",
       "  <tbody>\n",
       "    <tr>\n",
       "      <th>1</th>\n",
       "      <td>Acura</td>\n",
       "      <td>2019</td>\n",
       "      <td>$40,600</td>\n",
       "      <td>22 mpg City/28 mpg Hwy</td>\n",
       "      <td>Turbo Premium Unleaded I-4, 2.0 L</td>\n",
       "      <td>Front Wheel Drive</td>\n",
       "      <td>5</td>\n",
       "      <td>4</td>\n",
       "      <td>Sport Utility</td>\n",
       "      <td>Transmission: 10-Speed Automatic -inc: sequent...</td>\n",
       "    </tr>\n",
       "    <tr>\n",
       "      <th>2</th>\n",
       "      <td>Acura</td>\n",
       "      <td>2019</td>\n",
       "      <td>$45,500</td>\n",
       "      <td>22 mpg City/28 mpg Hwy</td>\n",
       "      <td>Turbo Premium Unleaded I-4, 2.0 L</td>\n",
       "      <td>Front Wheel Drive</td>\n",
       "      <td>5</td>\n",
       "      <td>4</td>\n",
       "      <td>Sport Utility</td>\n",
       "      <td>Transmission: 10-Speed Automatic -inc: sequent...</td>\n",
       "    </tr>\n",
       "    <tr>\n",
       "      <th>3</th>\n",
       "      <td>Acura</td>\n",
       "      <td>2019</td>\n",
       "      <td>$43,600</td>\n",
       "      <td>22 mpg City/27 mpg Hwy</td>\n",
       "      <td>Turbo Premium Unleaded I-4, 2.0 L</td>\n",
       "      <td>Front Wheel Drive</td>\n",
       "      <td>5</td>\n",
       "      <td>4</td>\n",
       "      <td>Sport Utility</td>\n",
       "      <td>Transmission: 10-Speed Automatic -inc: sequent...</td>\n",
       "    </tr>\n",
       "    <tr>\n",
       "      <th>4</th>\n",
       "      <td>Acura</td>\n",
       "      <td>2019</td>\n",
       "      <td>$37,400</td>\n",
       "      <td>22 mpg City/28 mpg Hwy</td>\n",
       "      <td>Turbo Premium Unleaded I-4, 2.0 L</td>\n",
       "      <td>Front Wheel Drive</td>\n",
       "      <td>5</td>\n",
       "      <td>4</td>\n",
       "      <td>Sport Utility</td>\n",
       "      <td>Transmission: 10-Speed Automatic -inc: sequent...</td>\n",
       "    </tr>\n",
       "  </tbody>\n",
       "</table>\n",
       "</div>"
      ],
      "text/plain": [
       "0  model  year    Price             Gas Mileage  \\\n",
       "1  Acura  2019  $40,600  22 mpg City/28 mpg Hwy   \n",
       "2  Acura  2019  $45,500  22 mpg City/28 mpg Hwy   \n",
       "3  Acura  2019  $43,600  22 mpg City/27 mpg Hwy   \n",
       "4  Acura  2019  $37,400  22 mpg City/28 mpg Hwy   \n",
       "\n",
       "0                             Engine         Drivetrain Passenger Capacity  \\\n",
       "1  Turbo Premium Unleaded I-4, 2.0 L  Front Wheel Drive                  5   \n",
       "2  Turbo Premium Unleaded I-4, 2.0 L  Front Wheel Drive                  5   \n",
       "3  Turbo Premium Unleaded I-4, 2.0 L  Front Wheel Drive                  5   \n",
       "4  Turbo Premium Unleaded I-4, 2.0 L  Front Wheel Drive                  5   \n",
       "\n",
       "0 Passenger Doors     Body Style  \\\n",
       "1               4  Sport Utility   \n",
       "2               4  Sport Utility   \n",
       "3               4  Sport Utility   \n",
       "4               4  Sport Utility   \n",
       "\n",
       "0                                       Transmission  \n",
       "1  Transmission: 10-Speed Automatic -inc: sequent...  \n",
       "2  Transmission: 10-Speed Automatic -inc: sequent...  \n",
       "3  Transmission: 10-Speed Automatic -inc: sequent...  \n",
       "4  Transmission: 10-Speed Automatic -inc: sequent...  "
      ]
     },
     "execution_count": 100,
     "metadata": {},
     "output_type": "execute_result"
    }
   ],
   "source": [
    "data.head(4)\n"
   ]
  },
  {
   "cell_type": "code",
   "execution_count": 101,
   "metadata": {
    "collapsed": false,
    "jupyter": {
     "outputs_hidden": false
    },
    "pycharm": {
     "name": "#%%\n"
    }
   },
   "outputs": [],
   "source": [
    "# # data.groupby('model').nunique()\n",
    "#"
   ]
  },
  {
   "cell_type": "code",
   "execution_count": 102,
   "metadata": {
    "collapsed": false,
    "jupyter": {
     "outputs_hidden": false
    },
    "pycharm": {
     "name": "#%%\n"
    }
   },
   "outputs": [],
   "source": [
    "data['Price'] = data['Price'].str.replace('$', '')\n",
    "data['Price'] = data['Price'].str.replace(',', '')\n",
    "# for q, p in enumerate(data['Price'], start=1):\n",
    "#     if type(p) != str:\n",
    "#         continue\n",
    "#     else:\n",
    "#         data['Price'] = int(p)"
   ]
  },
  {
   "cell_type": "code",
   "execution_count": 103,
   "metadata": {
    "collapsed": false,
    "jupyter": {
     "outputs_hidden": false
    },
    "pycharm": {
     "name": "#%%\n"
    }
   },
   "outputs": [],
   "source": [
    "# # data.groupby('Gas Mileage').nunique()\n",
    "#"
   ]
  },
  {
   "cell_type": "code",
   "execution_count": 104,
   "metadata": {
    "collapsed": false,
    "jupyter": {
     "outputs_hidden": false
    },
    "pycharm": {
     "name": "#%%\n"
    }
   },
   "outputs": [
    {
     "data": {
      "text/html": [
       "<div>\n",
       "<style scoped>\n",
       "    .dataframe tbody tr th:only-of-type {\n",
       "        vertical-align: middle;\n",
       "    }\n",
       "\n",
       "    .dataframe tbody tr th {\n",
       "        vertical-align: top;\n",
       "    }\n",
       "\n",
       "    .dataframe thead th {\n",
       "        text-align: right;\n",
       "    }\n",
       "</style>\n",
       "<table border=\"1\" class=\"dataframe\">\n",
       "  <thead>\n",
       "    <tr style=\"text-align: right;\">\n",
       "      <th></th>\n",
       "      <th>model</th>\n",
       "      <th>year</th>\n",
       "      <th>Price</th>\n",
       "      <th>Gas Mileage</th>\n",
       "      <th>Engine</th>\n",
       "      <th>Drivetrain</th>\n",
       "      <th>Passenger Capacity</th>\n",
       "      <th>Passenger Doors</th>\n",
       "      <th>Body Style</th>\n",
       "      <th>Transmission</th>\n",
       "    </tr>\n",
       "  </thead>\n",
       "  <tbody>\n",
       "    <tr>\n",
       "      <th>1</th>\n",
       "      <td>Acura</td>\n",
       "      <td>2019</td>\n",
       "      <td>40600</td>\n",
       "      <td>22 mpg City/28 mpg Hwy</td>\n",
       "      <td>Turbo Premium Unleaded I-4, 2.0 L</td>\n",
       "      <td>Front Wheel Drive</td>\n",
       "      <td>5</td>\n",
       "      <td>4</td>\n",
       "      <td>Sport Utility</td>\n",
       "      <td>Transmission: 10-Speed Automatic -inc: sequent...</td>\n",
       "    </tr>\n",
       "    <tr>\n",
       "      <th>2</th>\n",
       "      <td>Acura</td>\n",
       "      <td>2019</td>\n",
       "      <td>45500</td>\n",
       "      <td>22 mpg City/28 mpg Hwy</td>\n",
       "      <td>Turbo Premium Unleaded I-4, 2.0 L</td>\n",
       "      <td>Front Wheel Drive</td>\n",
       "      <td>5</td>\n",
       "      <td>4</td>\n",
       "      <td>Sport Utility</td>\n",
       "      <td>Transmission: 10-Speed Automatic -inc: sequent...</td>\n",
       "    </tr>\n",
       "    <tr>\n",
       "      <th>3</th>\n",
       "      <td>Acura</td>\n",
       "      <td>2019</td>\n",
       "      <td>43600</td>\n",
       "      <td>22 mpg City/27 mpg Hwy</td>\n",
       "      <td>Turbo Premium Unleaded I-4, 2.0 L</td>\n",
       "      <td>Front Wheel Drive</td>\n",
       "      <td>5</td>\n",
       "      <td>4</td>\n",
       "      <td>Sport Utility</td>\n",
       "      <td>Transmission: 10-Speed Automatic -inc: sequent...</td>\n",
       "    </tr>\n",
       "    <tr>\n",
       "      <th>4</th>\n",
       "      <td>Acura</td>\n",
       "      <td>2019</td>\n",
       "      <td>37400</td>\n",
       "      <td>22 mpg City/28 mpg Hwy</td>\n",
       "      <td>Turbo Premium Unleaded I-4, 2.0 L</td>\n",
       "      <td>Front Wheel Drive</td>\n",
       "      <td>5</td>\n",
       "      <td>4</td>\n",
       "      <td>Sport Utility</td>\n",
       "      <td>Transmission: 10-Speed Automatic -inc: sequent...</td>\n",
       "    </tr>\n",
       "  </tbody>\n",
       "</table>\n",
       "</div>"
      ],
      "text/plain": [
       "0  model  year  Price             Gas Mileage  \\\n",
       "1  Acura  2019  40600  22 mpg City/28 mpg Hwy   \n",
       "2  Acura  2019  45500  22 mpg City/28 mpg Hwy   \n",
       "3  Acura  2019  43600  22 mpg City/27 mpg Hwy   \n",
       "4  Acura  2019  37400  22 mpg City/28 mpg Hwy   \n",
       "\n",
       "0                             Engine         Drivetrain Passenger Capacity  \\\n",
       "1  Turbo Premium Unleaded I-4, 2.0 L  Front Wheel Drive                  5   \n",
       "2  Turbo Premium Unleaded I-4, 2.0 L  Front Wheel Drive                  5   \n",
       "3  Turbo Premium Unleaded I-4, 2.0 L  Front Wheel Drive                  5   \n",
       "4  Turbo Premium Unleaded I-4, 2.0 L  Front Wheel Drive                  5   \n",
       "\n",
       "0 Passenger Doors     Body Style  \\\n",
       "1               4  Sport Utility   \n",
       "2               4  Sport Utility   \n",
       "3               4  Sport Utility   \n",
       "4               4  Sport Utility   \n",
       "\n",
       "0                                       Transmission  \n",
       "1  Transmission: 10-Speed Automatic -inc: sequent...  \n",
       "2  Transmission: 10-Speed Automatic -inc: sequent...  \n",
       "3  Transmission: 10-Speed Automatic -inc: sequent...  \n",
       "4  Transmission: 10-Speed Automatic -inc: sequent...  "
      ]
     },
     "execution_count": 104,
     "metadata": {},
     "output_type": "execute_result"
    }
   ],
   "source": [
    "data.head(4)"
   ]
  },
  {
   "cell_type": "code",
   "execution_count": 105,
   "metadata": {
    "collapsed": false,
    "jupyter": {
     "outputs_hidden": false
    },
    "pycharm": {
     "name": "#%%\n"
    }
   },
   "outputs": [],
   "source": [
    "# data['Gas Mileage'] = [int(v.split('/')[1].split(' ')[0]) - int(v.split(' ')[0]) if type(v) == str else '' for v in data['Gas Mileage']]\n",
    "for v, w in enumerate(data['Gas Mileage'], start=1):\n",
    "    if type(w) != str:\n",
    "        continue\n",
    "    else:\n",
    "        f = w.find('/')\n",
    "        if f == -1:\n",
    "            data.loc[v, 'Gas Mileage'] = int(abs(int(w.split(' ')[0])))\n",
    "        else:\n",
    "            n1 = int(w.split('/')[1].split(' ')[0])\n",
    "            n2 = int(w.split(' ')[0])\n",
    "            data.loc[v, 'Gas Mileage'] = int(abs(n1 + n2))"
   ]
  },
  {
   "cell_type": "code",
   "execution_count": 106,
   "metadata": {
    "collapsed": false,
    "jupyter": {
     "outputs_hidden": false
    },
    "pycharm": {
     "name": "#%%\n"
    }
   },
   "outputs": [
    {
     "data": {
      "text/html": [
       "<div>\n",
       "<style scoped>\n",
       "    .dataframe tbody tr th:only-of-type {\n",
       "        vertical-align: middle;\n",
       "    }\n",
       "\n",
       "    .dataframe tbody tr th {\n",
       "        vertical-align: top;\n",
       "    }\n",
       "\n",
       "    .dataframe thead th {\n",
       "        text-align: right;\n",
       "    }\n",
       "</style>\n",
       "<table border=\"1\" class=\"dataframe\">\n",
       "  <thead>\n",
       "    <tr style=\"text-align: right;\">\n",
       "      <th></th>\n",
       "      <th>model</th>\n",
       "      <th>year</th>\n",
       "      <th>Price</th>\n",
       "      <th>Gas Mileage</th>\n",
       "      <th>Engine</th>\n",
       "      <th>Drivetrain</th>\n",
       "      <th>Passenger Capacity</th>\n",
       "      <th>Passenger Doors</th>\n",
       "      <th>Body Style</th>\n",
       "      <th>Transmission</th>\n",
       "    </tr>\n",
       "  </thead>\n",
       "  <tbody>\n",
       "    <tr>\n",
       "      <th>1</th>\n",
       "      <td>Acura</td>\n",
       "      <td>2019</td>\n",
       "      <td>40600</td>\n",
       "      <td>50</td>\n",
       "      <td>Turbo Premium Unleaded I-4, 2.0 L</td>\n",
       "      <td>Front Wheel Drive</td>\n",
       "      <td>5</td>\n",
       "      <td>4</td>\n",
       "      <td>Sport Utility</td>\n",
       "      <td>Transmission: 10-Speed Automatic -inc: sequent...</td>\n",
       "    </tr>\n",
       "    <tr>\n",
       "      <th>2</th>\n",
       "      <td>Acura</td>\n",
       "      <td>2019</td>\n",
       "      <td>45500</td>\n",
       "      <td>50</td>\n",
       "      <td>Turbo Premium Unleaded I-4, 2.0 L</td>\n",
       "      <td>Front Wheel Drive</td>\n",
       "      <td>5</td>\n",
       "      <td>4</td>\n",
       "      <td>Sport Utility</td>\n",
       "      <td>Transmission: 10-Speed Automatic -inc: sequent...</td>\n",
       "    </tr>\n",
       "    <tr>\n",
       "      <th>3</th>\n",
       "      <td>Acura</td>\n",
       "      <td>2019</td>\n",
       "      <td>43600</td>\n",
       "      <td>49</td>\n",
       "      <td>Turbo Premium Unleaded I-4, 2.0 L</td>\n",
       "      <td>Front Wheel Drive</td>\n",
       "      <td>5</td>\n",
       "      <td>4</td>\n",
       "      <td>Sport Utility</td>\n",
       "      <td>Transmission: 10-Speed Automatic -inc: sequent...</td>\n",
       "    </tr>\n",
       "    <tr>\n",
       "      <th>4</th>\n",
       "      <td>Acura</td>\n",
       "      <td>2019</td>\n",
       "      <td>37400</td>\n",
       "      <td>50</td>\n",
       "      <td>Turbo Premium Unleaded I-4, 2.0 L</td>\n",
       "      <td>Front Wheel Drive</td>\n",
       "      <td>5</td>\n",
       "      <td>4</td>\n",
       "      <td>Sport Utility</td>\n",
       "      <td>Transmission: 10-Speed Automatic -inc: sequent...</td>\n",
       "    </tr>\n",
       "    <tr>\n",
       "      <th>5</th>\n",
       "      <td>Acura</td>\n",
       "      <td>2019</td>\n",
       "      <td>42600</td>\n",
       "      <td>48</td>\n",
       "      <td>Turbo Premium Unleaded I-4, 2.0 L</td>\n",
       "      <td>All Wheel Drive</td>\n",
       "      <td>5</td>\n",
       "      <td>4</td>\n",
       "      <td>Sport Utility</td>\n",
       "      <td>Transmission: 10-Speed Automatic -inc: sequent...</td>\n",
       "    </tr>\n",
       "  </tbody>\n",
       "</table>\n",
       "</div>"
      ],
      "text/plain": [
       "0  model  year  Price Gas Mileage                             Engine  \\\n",
       "1  Acura  2019  40600          50  Turbo Premium Unleaded I-4, 2.0 L   \n",
       "2  Acura  2019  45500          50  Turbo Premium Unleaded I-4, 2.0 L   \n",
       "3  Acura  2019  43600          49  Turbo Premium Unleaded I-4, 2.0 L   \n",
       "4  Acura  2019  37400          50  Turbo Premium Unleaded I-4, 2.0 L   \n",
       "5  Acura  2019  42600          48  Turbo Premium Unleaded I-4, 2.0 L   \n",
       "\n",
       "0         Drivetrain Passenger Capacity Passenger Doors     Body Style  \\\n",
       "1  Front Wheel Drive                  5               4  Sport Utility   \n",
       "2  Front Wheel Drive                  5               4  Sport Utility   \n",
       "3  Front Wheel Drive                  5               4  Sport Utility   \n",
       "4  Front Wheel Drive                  5               4  Sport Utility   \n",
       "5    All Wheel Drive                  5               4  Sport Utility   \n",
       "\n",
       "0                                       Transmission  \n",
       "1  Transmission: 10-Speed Automatic -inc: sequent...  \n",
       "2  Transmission: 10-Speed Automatic -inc: sequent...  \n",
       "3  Transmission: 10-Speed Automatic -inc: sequent...  \n",
       "4  Transmission: 10-Speed Automatic -inc: sequent...  \n",
       "5  Transmission: 10-Speed Automatic -inc: sequent...  "
      ]
     },
     "execution_count": 106,
     "metadata": {},
     "output_type": "execute_result"
    }
   ],
   "source": [
    "data.head(5)"
   ]
  },
  {
   "cell_type": "code",
   "execution_count": 107,
   "metadata": {
    "collapsed": false,
    "jupyter": {
     "outputs_hidden": false
    },
    "pycharm": {
     "name": "#%%\n"
    }
   },
   "outputs": [],
   "source": [
    "for r, engine in enumerate(data['Engine'], start=1):\n",
    "    if type(engine) != str:\n",
    "        continue\n",
    "    else:\n",
    "        g = engine.find('/')\n",
    "        if g == -1:\n",
    "            if 'Gas' in engine:\n",
    "                data.loc[r, 'Engine'] = 1\n",
    "            elif 'Unleaded' in engine:\n",
    "                data.loc[r, 'Engine'] = 2\n",
    "            elif ' Electric' in engine:\n",
    "                data.loc[r, 'Engine'] = 3\n",
    "            elif 'Diesel' in engine:\n",
    "                data.loc[r, 'Engine'] = 4\n",
    "            else:\n",
    "                data.loc[r, 'Engine'] = 5\n",
    "        else:\n",
    "            if 'Gas/Electric' in engine:\n",
    "                data.loc[r, 'Engine'] = 0\n",
    "            elif 'Gas/Ethanol' in engine:\n",
    "                data.loc[r, 'Engine'] = 6\n",
    "            else:\n",
    "                data.loc[r, 'Engine'] = 7"
   ]
  },
  {
   "cell_type": "code",
   "execution_count": 108,
   "metadata": {
    "collapsed": false,
    "jupyter": {
     "outputs_hidden": false
    },
    "pycharm": {
     "name": "#%%\n"
    }
   },
   "outputs": [
    {
     "data": {
      "text/html": [
       "<div>\n",
       "<style scoped>\n",
       "    .dataframe tbody tr th:only-of-type {\n",
       "        vertical-align: middle;\n",
       "    }\n",
       "\n",
       "    .dataframe tbody tr th {\n",
       "        vertical-align: top;\n",
       "    }\n",
       "\n",
       "    .dataframe thead th {\n",
       "        text-align: right;\n",
       "    }\n",
       "</style>\n",
       "<table border=\"1\" class=\"dataframe\">\n",
       "  <thead>\n",
       "    <tr style=\"text-align: right;\">\n",
       "      <th></th>\n",
       "      <th>model</th>\n",
       "      <th>year</th>\n",
       "      <th>Price</th>\n",
       "      <th>Gas Mileage</th>\n",
       "      <th>Engine</th>\n",
       "      <th>Drivetrain</th>\n",
       "      <th>Passenger Capacity</th>\n",
       "      <th>Passenger Doors</th>\n",
       "      <th>Body Style</th>\n",
       "      <th>Transmission</th>\n",
       "    </tr>\n",
       "  </thead>\n",
       "  <tbody>\n",
       "    <tr>\n",
       "      <th>1</th>\n",
       "      <td>Acura</td>\n",
       "      <td>2019</td>\n",
       "      <td>40600</td>\n",
       "      <td>50</td>\n",
       "      <td>2</td>\n",
       "      <td>Front Wheel Drive</td>\n",
       "      <td>5</td>\n",
       "      <td>4</td>\n",
       "      <td>Sport Utility</td>\n",
       "      <td>Transmission: 10-Speed Automatic -inc: sequent...</td>\n",
       "    </tr>\n",
       "    <tr>\n",
       "      <th>2</th>\n",
       "      <td>Acura</td>\n",
       "      <td>2019</td>\n",
       "      <td>45500</td>\n",
       "      <td>50</td>\n",
       "      <td>2</td>\n",
       "      <td>Front Wheel Drive</td>\n",
       "      <td>5</td>\n",
       "      <td>4</td>\n",
       "      <td>Sport Utility</td>\n",
       "      <td>Transmission: 10-Speed Automatic -inc: sequent...</td>\n",
       "    </tr>\n",
       "    <tr>\n",
       "      <th>3</th>\n",
       "      <td>Acura</td>\n",
       "      <td>2019</td>\n",
       "      <td>43600</td>\n",
       "      <td>49</td>\n",
       "      <td>2</td>\n",
       "      <td>Front Wheel Drive</td>\n",
       "      <td>5</td>\n",
       "      <td>4</td>\n",
       "      <td>Sport Utility</td>\n",
       "      <td>Transmission: 10-Speed Automatic -inc: sequent...</td>\n",
       "    </tr>\n",
       "    <tr>\n",
       "      <th>4</th>\n",
       "      <td>Acura</td>\n",
       "      <td>2019</td>\n",
       "      <td>37400</td>\n",
       "      <td>50</td>\n",
       "      <td>2</td>\n",
       "      <td>Front Wheel Drive</td>\n",
       "      <td>5</td>\n",
       "      <td>4</td>\n",
       "      <td>Sport Utility</td>\n",
       "      <td>Transmission: 10-Speed Automatic -inc: sequent...</td>\n",
       "    </tr>\n",
       "  </tbody>\n",
       "</table>\n",
       "</div>"
      ],
      "text/plain": [
       "0  model  year  Price Gas Mileage Engine         Drivetrain  \\\n",
       "1  Acura  2019  40600          50      2  Front Wheel Drive   \n",
       "2  Acura  2019  45500          50      2  Front Wheel Drive   \n",
       "3  Acura  2019  43600          49      2  Front Wheel Drive   \n",
       "4  Acura  2019  37400          50      2  Front Wheel Drive   \n",
       "\n",
       "0 Passenger Capacity Passenger Doors     Body Style  \\\n",
       "1                  5               4  Sport Utility   \n",
       "2                  5               4  Sport Utility   \n",
       "3                  5               4  Sport Utility   \n",
       "4                  5               4  Sport Utility   \n",
       "\n",
       "0                                       Transmission  \n",
       "1  Transmission: 10-Speed Automatic -inc: sequent...  \n",
       "2  Transmission: 10-Speed Automatic -inc: sequent...  \n",
       "3  Transmission: 10-Speed Automatic -inc: sequent...  \n",
       "4  Transmission: 10-Speed Automatic -inc: sequent...  "
      ]
     },
     "execution_count": 108,
     "metadata": {},
     "output_type": "execute_result"
    }
   ],
   "source": [
    "data.head(4)"
   ]
  },
  {
   "cell_type": "code",
   "execution_count": 109,
   "metadata": {
    "collapsed": false,
    "jupyter": {
     "outputs_hidden": false
    },
    "pycharm": {
     "name": "#%%\n"
    }
   },
   "outputs": [],
   "source": [
    "# # data.groupby('Body Style').nunique()\n",
    "#"
   ]
  },
  {
   "cell_type": "code",
   "execution_count": 110,
   "metadata": {
    "collapsed": false,
    "jupyter": {
     "outputs_hidden": false
    },
    "pycharm": {
     "name": "#%%\n"
    }
   },
   "outputs": [],
   "source": [
    "for a, b in enumerate(data['Body Style'], start=1):\n",
    "    if type(b) != str:\n",
    "        continue\n",
    "    else:\n",
    "        if 'Pickup' in b:\n",
    "            data.loc[a, 'Body Style'] = 8\n",
    "        elif 'Sport' in b:\n",
    "            data.loc[a, 'Body Style'] = 1\n",
    "        elif '2dr' in b:\n",
    "            data.loc[a, 'Body Style'] = 2\n",
    "        elif '3dr' in b:\n",
    "            data.loc[a, 'Body Style'] = 3\n",
    "        elif '4dr' in b:\n",
    "            data.loc[a, 'Body Style'] = 4\n",
    "        elif 'van' in b or 'Mini-van' in b:\n",
    "            data.loc[a, 'Body Style'] = 5\n",
    "        elif 'Specialty' in b:\n",
    "            data.loc[a, 'Body Style'] = 6\n",
    "        elif 'Wagon' in b:\n",
    "            data.loc[a, 'Body Style'] = 7\n",
    "        else:\n",
    "            data.loc[a, 'Body Style'] = 0"
   ]
  },
  {
   "cell_type": "code",
   "execution_count": 111,
   "metadata": {
    "collapsed": false,
    "jupyter": {
     "outputs_hidden": false
    },
    "pycharm": {
     "name": "#%%\n"
    }
   },
   "outputs": [
    {
     "data": {
      "text/html": [
       "<div>\n",
       "<style scoped>\n",
       "    .dataframe tbody tr th:only-of-type {\n",
       "        vertical-align: middle;\n",
       "    }\n",
       "\n",
       "    .dataframe tbody tr th {\n",
       "        vertical-align: top;\n",
       "    }\n",
       "\n",
       "    .dataframe thead th {\n",
       "        text-align: right;\n",
       "    }\n",
       "</style>\n",
       "<table border=\"1\" class=\"dataframe\">\n",
       "  <thead>\n",
       "    <tr style=\"text-align: right;\">\n",
       "      <th></th>\n",
       "      <th>model</th>\n",
       "      <th>year</th>\n",
       "      <th>Price</th>\n",
       "      <th>Gas Mileage</th>\n",
       "      <th>Engine</th>\n",
       "      <th>Drivetrain</th>\n",
       "      <th>Passenger Capacity</th>\n",
       "      <th>Passenger Doors</th>\n",
       "      <th>Body Style</th>\n",
       "      <th>Transmission</th>\n",
       "    </tr>\n",
       "  </thead>\n",
       "  <tbody>\n",
       "    <tr>\n",
       "      <th>1</th>\n",
       "      <td>Acura</td>\n",
       "      <td>2019</td>\n",
       "      <td>40600</td>\n",
       "      <td>50</td>\n",
       "      <td>2</td>\n",
       "      <td>Front Wheel Drive</td>\n",
       "      <td>5</td>\n",
       "      <td>4</td>\n",
       "      <td>1</td>\n",
       "      <td>Transmission: 10-Speed Automatic -inc: sequent...</td>\n",
       "    </tr>\n",
       "    <tr>\n",
       "      <th>2</th>\n",
       "      <td>Acura</td>\n",
       "      <td>2019</td>\n",
       "      <td>45500</td>\n",
       "      <td>50</td>\n",
       "      <td>2</td>\n",
       "      <td>Front Wheel Drive</td>\n",
       "      <td>5</td>\n",
       "      <td>4</td>\n",
       "      <td>1</td>\n",
       "      <td>Transmission: 10-Speed Automatic -inc: sequent...</td>\n",
       "    </tr>\n",
       "    <tr>\n",
       "      <th>3</th>\n",
       "      <td>Acura</td>\n",
       "      <td>2019</td>\n",
       "      <td>43600</td>\n",
       "      <td>49</td>\n",
       "      <td>2</td>\n",
       "      <td>Front Wheel Drive</td>\n",
       "      <td>5</td>\n",
       "      <td>4</td>\n",
       "      <td>1</td>\n",
       "      <td>Transmission: 10-Speed Automatic -inc: sequent...</td>\n",
       "    </tr>\n",
       "    <tr>\n",
       "      <th>4</th>\n",
       "      <td>Acura</td>\n",
       "      <td>2019</td>\n",
       "      <td>37400</td>\n",
       "      <td>50</td>\n",
       "      <td>2</td>\n",
       "      <td>Front Wheel Drive</td>\n",
       "      <td>5</td>\n",
       "      <td>4</td>\n",
       "      <td>1</td>\n",
       "      <td>Transmission: 10-Speed Automatic -inc: sequent...</td>\n",
       "    </tr>\n",
       "  </tbody>\n",
       "</table>\n",
       "</div>"
      ],
      "text/plain": [
       "0  model  year  Price Gas Mileage Engine         Drivetrain  \\\n",
       "1  Acura  2019  40600          50      2  Front Wheel Drive   \n",
       "2  Acura  2019  45500          50      2  Front Wheel Drive   \n",
       "3  Acura  2019  43600          49      2  Front Wheel Drive   \n",
       "4  Acura  2019  37400          50      2  Front Wheel Drive   \n",
       "\n",
       "0 Passenger Capacity Passenger Doors Body Style  \\\n",
       "1                  5               4          1   \n",
       "2                  5               4          1   \n",
       "3                  5               4          1   \n",
       "4                  5               4          1   \n",
       "\n",
       "0                                       Transmission  \n",
       "1  Transmission: 10-Speed Automatic -inc: sequent...  \n",
       "2  Transmission: 10-Speed Automatic -inc: sequent...  \n",
       "3  Transmission: 10-Speed Automatic -inc: sequent...  \n",
       "4  Transmission: 10-Speed Automatic -inc: sequent...  "
      ]
     },
     "execution_count": 111,
     "metadata": {},
     "output_type": "execute_result"
    }
   ],
   "source": [
    "data.head(4)"
   ]
  },
  {
   "cell_type": "code",
   "execution_count": 112,
   "metadata": {
    "collapsed": false,
    "jupyter": {
     "outputs_hidden": false
    },
    "pycharm": {
     "name": "#%%\n"
    }
   },
   "outputs": [],
   "source": [
    "for c, d in enumerate(data['Drivetrain'], start=1):\n",
    "    if type(d) != str:\n",
    "        continue\n",
    "    else:\n",
    "        if d.startswith('All') or d.startswith('4'):\n",
    "            data.loc[c,'Drivetrain'] = 0\n",
    "        elif d.startswith('Front'):\n",
    "            data.loc[c,'Drivetrain'] = 1\n",
    "        elif d.startswith('Rear'):\n",
    "            data.loc[c,'Drivetrain'] = 2\n",
    "        else:\n",
    "            data.loc[c,'Drivetrain'] = 3"
   ]
  },
  {
   "cell_type": "code",
   "execution_count": 113,
   "metadata": {
    "collapsed": false,
    "jupyter": {
     "outputs_hidden": false
    },
    "pycharm": {
     "name": "#%%\n"
    }
   },
   "outputs": [
    {
     "data": {
      "text/html": [
       "<div>\n",
       "<style scoped>\n",
       "    .dataframe tbody tr th:only-of-type {\n",
       "        vertical-align: middle;\n",
       "    }\n",
       "\n",
       "    .dataframe tbody tr th {\n",
       "        vertical-align: top;\n",
       "    }\n",
       "\n",
       "    .dataframe thead th {\n",
       "        text-align: right;\n",
       "    }\n",
       "</style>\n",
       "<table border=\"1\" class=\"dataframe\">\n",
       "  <thead>\n",
       "    <tr style=\"text-align: right;\">\n",
       "      <th></th>\n",
       "      <th>model</th>\n",
       "      <th>year</th>\n",
       "      <th>Price</th>\n",
       "      <th>Gas Mileage</th>\n",
       "      <th>Engine</th>\n",
       "      <th>Drivetrain</th>\n",
       "      <th>Passenger Capacity</th>\n",
       "      <th>Passenger Doors</th>\n",
       "      <th>Body Style</th>\n",
       "      <th>Transmission</th>\n",
       "    </tr>\n",
       "  </thead>\n",
       "  <tbody>\n",
       "    <tr>\n",
       "      <th>1</th>\n",
       "      <td>Acura</td>\n",
       "      <td>2019</td>\n",
       "      <td>40600</td>\n",
       "      <td>50</td>\n",
       "      <td>2</td>\n",
       "      <td>1</td>\n",
       "      <td>5</td>\n",
       "      <td>4</td>\n",
       "      <td>1</td>\n",
       "      <td>Transmission: 10-Speed Automatic -inc: sequent...</td>\n",
       "    </tr>\n",
       "    <tr>\n",
       "      <th>2</th>\n",
       "      <td>Acura</td>\n",
       "      <td>2019</td>\n",
       "      <td>45500</td>\n",
       "      <td>50</td>\n",
       "      <td>2</td>\n",
       "      <td>1</td>\n",
       "      <td>5</td>\n",
       "      <td>4</td>\n",
       "      <td>1</td>\n",
       "      <td>Transmission: 10-Speed Automatic -inc: sequent...</td>\n",
       "    </tr>\n",
       "    <tr>\n",
       "      <th>3</th>\n",
       "      <td>Acura</td>\n",
       "      <td>2019</td>\n",
       "      <td>43600</td>\n",
       "      <td>49</td>\n",
       "      <td>2</td>\n",
       "      <td>1</td>\n",
       "      <td>5</td>\n",
       "      <td>4</td>\n",
       "      <td>1</td>\n",
       "      <td>Transmission: 10-Speed Automatic -inc: sequent...</td>\n",
       "    </tr>\n",
       "    <tr>\n",
       "      <th>4</th>\n",
       "      <td>Acura</td>\n",
       "      <td>2019</td>\n",
       "      <td>37400</td>\n",
       "      <td>50</td>\n",
       "      <td>2</td>\n",
       "      <td>1</td>\n",
       "      <td>5</td>\n",
       "      <td>4</td>\n",
       "      <td>1</td>\n",
       "      <td>Transmission: 10-Speed Automatic -inc: sequent...</td>\n",
       "    </tr>\n",
       "  </tbody>\n",
       "</table>\n",
       "</div>"
      ],
      "text/plain": [
       "0  model  year  Price Gas Mileage Engine Drivetrain Passenger Capacity  \\\n",
       "1  Acura  2019  40600          50      2          1                  5   \n",
       "2  Acura  2019  45500          50      2          1                  5   \n",
       "3  Acura  2019  43600          49      2          1                  5   \n",
       "4  Acura  2019  37400          50      2          1                  5   \n",
       "\n",
       "0 Passenger Doors Body Style  \\\n",
       "1               4          1   \n",
       "2               4          1   \n",
       "3               4          1   \n",
       "4               4          1   \n",
       "\n",
       "0                                       Transmission  \n",
       "1  Transmission: 10-Speed Automatic -inc: sequent...  \n",
       "2  Transmission: 10-Speed Automatic -inc: sequent...  \n",
       "3  Transmission: 10-Speed Automatic -inc: sequent...  \n",
       "4  Transmission: 10-Speed Automatic -inc: sequent...  "
      ]
     },
     "execution_count": 113,
     "metadata": {},
     "output_type": "execute_result"
    }
   ],
   "source": [
    "data.head(4)"
   ]
  },
  {
   "cell_type": "code",
   "execution_count": 114,
   "metadata": {
    "collapsed": false,
    "jupyter": {
     "outputs_hidden": false
    },
    "pycharm": {
     "name": "#%%\n"
    }
   },
   "outputs": [],
   "source": [
    "# # data['Transmission'].values.tolist()\n",
    "#"
   ]
  },
  {
   "cell_type": "code",
   "execution_count": 115,
   "metadata": {
    "collapsed": false,
    "jupyter": {
     "outputs_hidden": false
    },
    "pycharm": {
     "name": "#%%\n"
    }
   },
   "outputs": [],
   "source": [
    "for s, t in enumerate(data['Transmission'], start=1):\n",
    "    if type(t) != str:\n",
    "        continue\n",
    "    else:\n",
    "        s1 = t.find('-speed')\n",
    "        s2 = t.find('-Speed')\n",
    "        if s1 == -1:\n",
    "            if type(t[s2-2:s2]) == int:\n",
    "                data.loc[s, 'Transmission'] = t[s2-2:s2]\n",
    "            else:\n",
    "                data.loc[s, 'Transmission'] = 1\n",
    "        elif s1 != -1:\n",
    "            if type(t[s1-1]) == int:\n",
    "                data.loc[s, 'Transmission'] = t[s1-1]\n",
    "            else:\n",
    "                data.loc[s, 'Transmission'] =1\n",
    "        else:\n",
    "            data.loc[s, 'Transmission'] = 0"
   ]
  },
  {
   "cell_type": "code",
   "execution_count": 116,
   "metadata": {
    "collapsed": false,
    "jupyter": {
     "outputs_hidden": false
    },
    "pycharm": {
     "name": "#%%\n"
    }
   },
   "outputs": [
    {
     "data": {
      "text/html": [
       "<div>\n",
       "<style scoped>\n",
       "    .dataframe tbody tr th:only-of-type {\n",
       "        vertical-align: middle;\n",
       "    }\n",
       "\n",
       "    .dataframe tbody tr th {\n",
       "        vertical-align: top;\n",
       "    }\n",
       "\n",
       "    .dataframe thead th {\n",
       "        text-align: right;\n",
       "    }\n",
       "</style>\n",
       "<table border=\"1\" class=\"dataframe\">\n",
       "  <thead>\n",
       "    <tr style=\"text-align: right;\">\n",
       "      <th></th>\n",
       "      <th>model</th>\n",
       "      <th>year</th>\n",
       "      <th>Price</th>\n",
       "      <th>Gas Mileage</th>\n",
       "      <th>Engine</th>\n",
       "      <th>Drivetrain</th>\n",
       "      <th>Passenger Capacity</th>\n",
       "      <th>Passenger Doors</th>\n",
       "      <th>Body Style</th>\n",
       "      <th>Transmission</th>\n",
       "    </tr>\n",
       "  </thead>\n",
       "  <tbody>\n",
       "    <tr>\n",
       "      <th>1</th>\n",
       "      <td>Acura</td>\n",
       "      <td>2019</td>\n",
       "      <td>40600</td>\n",
       "      <td>50</td>\n",
       "      <td>2</td>\n",
       "      <td>1</td>\n",
       "      <td>5</td>\n",
       "      <td>4</td>\n",
       "      <td>1</td>\n",
       "      <td>1</td>\n",
       "    </tr>\n",
       "    <tr>\n",
       "      <th>2</th>\n",
       "      <td>Acura</td>\n",
       "      <td>2019</td>\n",
       "      <td>45500</td>\n",
       "      <td>50</td>\n",
       "      <td>2</td>\n",
       "      <td>1</td>\n",
       "      <td>5</td>\n",
       "      <td>4</td>\n",
       "      <td>1</td>\n",
       "      <td>1</td>\n",
       "    </tr>\n",
       "    <tr>\n",
       "      <th>3</th>\n",
       "      <td>Acura</td>\n",
       "      <td>2019</td>\n",
       "      <td>43600</td>\n",
       "      <td>49</td>\n",
       "      <td>2</td>\n",
       "      <td>1</td>\n",
       "      <td>5</td>\n",
       "      <td>4</td>\n",
       "      <td>1</td>\n",
       "      <td>1</td>\n",
       "    </tr>\n",
       "    <tr>\n",
       "      <th>4</th>\n",
       "      <td>Acura</td>\n",
       "      <td>2019</td>\n",
       "      <td>37400</td>\n",
       "      <td>50</td>\n",
       "      <td>2</td>\n",
       "      <td>1</td>\n",
       "      <td>5</td>\n",
       "      <td>4</td>\n",
       "      <td>1</td>\n",
       "      <td>1</td>\n",
       "    </tr>\n",
       "  </tbody>\n",
       "</table>\n",
       "</div>"
      ],
      "text/plain": [
       "0  model  year  Price Gas Mileage Engine Drivetrain Passenger Capacity  \\\n",
       "1  Acura  2019  40600          50      2          1                  5   \n",
       "2  Acura  2019  45500          50      2          1                  5   \n",
       "3  Acura  2019  43600          49      2          1                  5   \n",
       "4  Acura  2019  37400          50      2          1                  5   \n",
       "\n",
       "0 Passenger Doors Body Style Transmission  \n",
       "1               4          1            1  \n",
       "2               4          1            1  \n",
       "3               4          1            1  \n",
       "4               4          1            1  "
      ]
     },
     "execution_count": 116,
     "metadata": {},
     "output_type": "execute_result"
    }
   ],
   "source": [
    "data.head(4)"
   ]
  },
  {
   "cell_type": "code",
   "execution_count": 117,
   "metadata": {
    "collapsed": false,
    "jupyter": {
     "outputs_hidden": false
    },
    "pycharm": {
     "name": "#%%\n"
    }
   },
   "outputs": [
    {
     "name": "stdout",
     "output_type": "stream",
     "text": [
      " the column model: False : 0\n",
      " the column Price: True : 54\n",
      " the column Gas Mileage: True : 6024\n",
      " the column Engine: True : 1975\n",
      " the column Drivetrain: True : 1716\n",
      " the column Passenger Capacity: False : 0\n",
      " the column Passenger Doors: False : 0\n",
      " the column Body Style: True : 1716\n",
      " the column Transmission: True : 2714\n"
     ]
    }
   ],
   "source": [
    "for value in columns_to_keep:\n",
    "    print(f' the column {value}: {data[value].isnull().values.any()} : {data[value].isnull().sum()}')\n"
   ]
  },
  {
   "cell_type": "code",
   "execution_count": 118,
   "metadata": {
    "collapsed": false,
    "jupyter": {
     "outputs_hidden": false
    },
    "pycharm": {
     "name": "#%%\n"
    }
   },
   "outputs": [],
   "source": [
    "data.to_csv('cars_data.csv')"
   ]
  },
  {
   "cell_type": "code",
   "execution_count": 119,
   "metadata": {
    "collapsed": false,
    "jupyter": {
     "outputs_hidden": false
    },
    "pycharm": {
     "name": "#%%\n"
    }
   },
   "outputs": [],
   "source": [
    "# # data['Price'].fillna(data.groupby(['model', 'year'])['Price'].transform('median'),inplace=True)\n",
    "#"
   ]
  },
  {
   "cell_type": "code",
   "execution_count": 120,
   "metadata": {
    "collapsed": false,
    "jupyter": {
     "outputs_hidden": false
    },
    "pycharm": {
     "name": "#%%\n"
    }
   },
   "outputs": [],
   "source": [
    "# # data['Gas Mileage'].fillna(data.groupby(['model', 'year'])['Gas Mileage'].transform('median'),inplace=True)\n",
    "#\n",
    "#"
   ]
  },
  {
   "cell_type": "code",
   "execution_count": 121,
   "metadata": {
    "collapsed": false,
    "jupyter": {
     "outputs_hidden": false
    },
    "pycharm": {
     "name": "#%%\n"
    }
   },
   "outputs": [],
   "source": [
    "\n",
    "# # for value in columns_to_keep:\n",
    "# #     print(f' the column {value}: {data[value].isnull().values.any()} : {data[value].isnull().sum()}')\n",
    "#"
   ]
  },
  {
   "cell_type": "code",
   "execution_count": 122,
   "metadata": {
    "collapsed": false,
    "jupyter": {
     "outputs_hidden": false
    },
    "pycharm": {
     "name": "#%%\n"
    }
   },
   "outputs": [],
   "source": [
    "# # for i, y in enumerate(data['Gas Mileage'], start=1):\n",
    "# #     print(type(y))\n",
    "# #     if i == 3:\n",
    "# #         break\n",
    "#"
   ]
  },
  {
   "cell_type": "code",
   "execution_count": 123,
   "metadata": {
    "collapsed": false,
    "jupyter": {
     "outputs_hidden": false
    },
    "pycharm": {
     "name": "#%%\n"
    }
   },
   "outputs": [],
   "source": [
    "# # data['Gas Mileage'].values.tolist()"
   ]
  }
 ],
 "metadata": {
  "kernelspec": {
   "display_name": "Python 3",
   "language": "python",
   "name": "python3"
  },
  "language_info": {
   "codemirror_mode": {
    "name": "ipython",
    "version": 3
   },
   "file_extension": ".py",
   "mimetype": "text/x-python",
   "name": "python",
   "nbconvert_exporter": "python",
   "pygments_lexer": "ipython3",
   "version": "3.8.5"
  }
 },
 "nbformat": 4,
 "nbformat_minor": 4
}
