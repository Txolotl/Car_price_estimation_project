{
 "cells": [
  {
   "cell_type": "code",
   "execution_count": 93,
   "metadata": {},
   "outputs": [],
   "source": [
    "import pandas as pd\n",
    "import numpy as np\n",
    "import matplotlib.pyplot as plt\n",
    "from sklearn.model_selection import KFold, StratifiedKFold, cross_val_score\n",
    "from sklearn import linear_model, tree, ensemble"
   ]
  },
  {
   "cell_type": "code",
   "execution_count": 100,
   "metadata": {},
   "outputs": [
    {
     "name": "stdout",
     "output_type": "stream",
     "text": [
      "<class 'pandas.core.frame.DataFrame'>\n",
      "RangeIndex: 32316 entries, 0 to 32315\n",
      "Data columns (total 10 columns):\n",
      " #   Column              Non-Null Count  Dtype  \n",
      "---  ------              --------------  -----  \n",
      " 0   model               32316 non-null  object \n",
      " 1   year                32316 non-null  int64  \n",
      " 2   Price               32262 non-null  float64\n",
      " 3   Gas Mileage         26292 non-null  float64\n",
      " 4   Engine              30341 non-null  float64\n",
      " 5   Drivetrain          30600 non-null  float64\n",
      " 6   Passenger Capacity  32316 non-null  int64  \n",
      " 7   Passenger Doors     32316 non-null  int64  \n",
      " 8   Body Style          30600 non-null  float64\n",
      " 9   Transmission        29602 non-null  float64\n",
      "dtypes: float64(6), int64(3), object(1)\n",
      "memory usage: 2.5+ MB\n"
     ]
    }
   ],
   "source": [
    "train_data = pd.read_csv('cars_data.csv')\n",
    "train_data = train_data.drop(['Unnamed: 0'], axis=1)\n",
    "train_data.info()"
   ]
  },
  {
   "cell_type": "code",
   "execution_count": 101,
   "metadata": {},
   "outputs": [],
   "source": [
    "train_data['model'] = train_data['model'].astype('category').cat.codes"
   ]
  },
  {
   "cell_type": "code",
   "execution_count": null,
   "metadata": {},
   "outputs": [],
   "source": [
    "train_data.groupby('model').nunique()"
   ]
  },
  {
   "cell_type": "code",
   "execution_count": 119,
   "metadata": {},
   "outputs": [
    {
     "data": {
      "text/plain": [
       "0         0\n",
       "1         0\n",
       "2         0\n",
       "3         0\n",
       "4         0\n",
       "         ..\n",
       "24393    41\n",
       "24394    41\n",
       "24395    41\n",
       "24396    41\n",
       "24397    41\n",
       "Name: model, Length: 24398, dtype: int8"
      ]
     },
     "execution_count": 119,
     "metadata": {},
     "output_type": "execute_result"
    }
   ],
   "source": [
    "train_data['model']"
   ]
  },
  {
   "cell_type": "code",
   "execution_count": 120,
   "metadata": {},
   "outputs": [
    {
     "name": "stdout",
     "output_type": "stream",
     "text": [
      "<class 'pandas.core.frame.DataFrame'>\n",
      "RangeIndex: 24398 entries, 0 to 24397\n",
      "Data columns (total 11 columns):\n",
      " #   Column              Non-Null Count  Dtype  \n",
      "---  ------              --------------  -----  \n",
      " 0   index               24398 non-null  int64  \n",
      " 1   model               24398 non-null  int8   \n",
      " 2   year                24398 non-null  int64  \n",
      " 3   Price               24398 non-null  float64\n",
      " 4   Gas Mileage         24398 non-null  float64\n",
      " 5   Engine              24398 non-null  float64\n",
      " 6   Drivetrain          24398 non-null  float64\n",
      " 7   Passenger Capacity  24398 non-null  int64  \n",
      " 8   Passenger Doors     24398 non-null  int64  \n",
      " 9   Body Style          24398 non-null  float64\n",
      " 10  Transmission        24398 non-null  float64\n",
      "dtypes: float64(6), int64(4), int8(1)\n",
      "memory usage: 1.9 MB\n"
     ]
    }
   ],
   "source": [
    "train_data.dropna(axis=0, inplace=True)\n",
    "#toujours reset index\n",
    "train_data=train_data.reset_index()\n",
    "# train_data=train_data.drop('model', axis=1)\n",
    "train_data.info()"
   ]
  },
  {
   "cell_type": "code",
   "execution_count": 104,
   "metadata": {},
   "outputs": [
    {
     "name": "stdout",
     "output_type": "stream",
     "text": [
      "<class 'pandas.core.frame.DataFrame'>\n",
      "RangeIndex: 24398 entries, 0 to 24397\n",
      "Data columns (total 10 columns):\n",
      " #   Column              Non-Null Count  Dtype  \n",
      "---  ------              --------------  -----  \n",
      " 0   model               24398 non-null  int8   \n",
      " 1   year                24398 non-null  int64  \n",
      " 2   Price               24398 non-null  float64\n",
      " 3   Gas Mileage         24398 non-null  float64\n",
      " 4   Engine              24398 non-null  float64\n",
      " 5   Drivetrain          24398 non-null  float64\n",
      " 6   Passenger Capacity  24398 non-null  int64  \n",
      " 7   Passenger Doors     24398 non-null  int64  \n",
      " 8   Body Style          24398 non-null  float64\n",
      " 9   Transmission        24398 non-null  float64\n",
      "dtypes: float64(6), int64(3), int8(1)\n",
      "memory usage: 1.7 MB\n"
     ]
    }
   ],
   "source": [
    "train_data=train_data.drop('index', axis=1)\n",
    "train_data.info()"
   ]
  },
  {
   "cell_type": "code",
   "execution_count": 105,
   "metadata": {},
   "outputs": [
    {
     "name": "stdout",
     "output_type": "stream",
     "text": [
      "<class 'pandas.core.frame.DataFrame'>\n",
      "RangeIndex: 24398 entries, 0 to 24397\n",
      "Data columns (total 10 columns):\n",
      " #   Column              Non-Null Count  Dtype  \n",
      "---  ------              --------------  -----  \n",
      " 0   model               24398 non-null  int8   \n",
      " 1   year                24398 non-null  int64  \n",
      " 2   Price               24398 non-null  float64\n",
      " 3   Gas Mileage         24398 non-null  float64\n",
      " 4   Engine              24398 non-null  float64\n",
      " 5   Drivetrain          24398 non-null  float64\n",
      " 6   Passenger Capacity  24398 non-null  int64  \n",
      " 7   Passenger Doors     24398 non-null  int64  \n",
      " 8   Body Style          24398 non-null  float64\n",
      " 9   Transmission        24398 non-null  float64\n",
      "dtypes: float64(6), int64(3), int8(1)\n",
      "memory usage: 1.7 MB\n"
     ]
    }
   ],
   "source": [
    "train_data.info()"
   ]
  },
  {
   "cell_type": "code",
   "execution_count": 106,
   "metadata": {},
   "outputs": [],
   "source": [
    "#Cree une copie pour travailler dans le ML (deep=True) bien garde\n",
    "X = train_data.copy(deep=True)\n",
    "y = train_data.Price"
   ]
  },
  {
   "cell_type": "code",
   "execution_count": 107,
   "metadata": {},
   "outputs": [
    {
     "name": "stdout",
     "output_type": "stream",
     "text": [
      "<class 'pandas.core.frame.DataFrame'>\n",
      "RangeIndex: 24398 entries, 0 to 24397\n",
      "Data columns (total 9 columns):\n",
      " #   Column              Non-Null Count  Dtype  \n",
      "---  ------              --------------  -----  \n",
      " 0   model               24398 non-null  int8   \n",
      " 1   year                24398 non-null  int64  \n",
      " 2   Gas Mileage         24398 non-null  float64\n",
      " 3   Engine              24398 non-null  float64\n",
      " 4   Drivetrain          24398 non-null  float64\n",
      " 5   Passenger Capacity  24398 non-null  int64  \n",
      " 6   Passenger Doors     24398 non-null  int64  \n",
      " 7   Body Style          24398 non-null  float64\n",
      " 8   Transmission        24398 non-null  float64\n",
      "dtypes: float64(5), int64(3), int8(1)\n",
      "memory usage: 1.5 MB\n"
     ]
    }
   ],
   "source": [
    "X=X.drop('Price', axis=1)\n",
    "X.info()"
   ]
  },
  {
   "cell_type": "code",
   "execution_count": 108,
   "metadata": {},
   "outputs": [
    {
     "name": "stdout",
     "output_type": "stream",
     "text": [
      "<class 'pandas.core.frame.DataFrame'>\n",
      "RangeIndex: 24398 entries, 0 to 24397\n",
      "Data columns (total 1 columns):\n",
      " #   Column  Non-Null Count  Dtype  \n",
      "---  ------  --------------  -----  \n",
      " 0   Price   24398 non-null  float64\n",
      "dtypes: float64(1)\n",
      "memory usage: 190.7 KB\n"
     ]
    }
   ],
   "source": [
    "#on tranforme y en array pour travailler avec le modele de ML\n",
    "y=pd.DataFrame(y)\n",
    "y.info()"
   ]
  },
  {
   "cell_type": "code",
   "execution_count": 109,
   "metadata": {},
   "outputs": [
    {
     "data": {
      "text/html": [
       "<div>\n",
       "<style scoped>\n",
       "    .dataframe tbody tr th:only-of-type {\n",
       "        vertical-align: middle;\n",
       "    }\n",
       "\n",
       "    .dataframe tbody tr th {\n",
       "        vertical-align: top;\n",
       "    }\n",
       "\n",
       "    .dataframe thead th {\n",
       "        text-align: right;\n",
       "    }\n",
       "</style>\n",
       "<table border=\"1\" class=\"dataframe\">\n",
       "  <thead>\n",
       "    <tr style=\"text-align: right;\">\n",
       "      <th></th>\n",
       "      <th>Price</th>\n",
       "    </tr>\n",
       "  </thead>\n",
       "  <tbody>\n",
       "    <tr>\n",
       "      <th>24393</th>\n",
       "      <td>34300.0</td>\n",
       "    </tr>\n",
       "    <tr>\n",
       "      <th>24394</th>\n",
       "      <td>41200.0</td>\n",
       "    </tr>\n",
       "    <tr>\n",
       "      <th>24395</th>\n",
       "      <td>44850.0</td>\n",
       "    </tr>\n",
       "    <tr>\n",
       "      <th>24396</th>\n",
       "      <td>41000.0</td>\n",
       "    </tr>\n",
       "    <tr>\n",
       "      <th>24397</th>\n",
       "      <td>44650.0</td>\n",
       "    </tr>\n",
       "  </tbody>\n",
       "</table>\n",
       "</div>"
      ],
      "text/plain": [
       "         Price\n",
       "24393  34300.0\n",
       "24394  41200.0\n",
       "24395  44850.0\n",
       "24396  41000.0\n",
       "24397  44650.0"
      ]
     },
     "execution_count": 109,
     "metadata": {},
     "output_type": "execute_result"
    }
   ],
   "source": [
    "y.tail()"
   ]
  },
  {
   "cell_type": "code",
   "execution_count": 110,
   "metadata": {},
   "outputs": [
    {
     "name": "stdout",
     "output_type": "stream",
     "text": [
      "Shape of input data: (24398, 9) and shape of target variable: (24398, 1)\n",
      "<class 'pandas.core.frame.DataFrame'>\n",
      "RangeIndex: 24398 entries, 0 to 24397\n",
      "Data columns (total 9 columns):\n",
      " #   Column              Non-Null Count  Dtype  \n",
      "---  ------              --------------  -----  \n",
      " 0   model               24398 non-null  int8   \n",
      " 1   year                24398 non-null  int64  \n",
      " 2   Gas Mileage         24398 non-null  float64\n",
      " 3   Engine              24398 non-null  float64\n",
      " 4   Drivetrain          24398 non-null  float64\n",
      " 5   Passenger Capacity  24398 non-null  int64  \n",
      " 6   Passenger Doors     24398 non-null  int64  \n",
      " 7   Body Style          24398 non-null  float64\n",
      " 8   Transmission        24398 non-null  float64\n",
      "dtypes: float64(5), int64(3), int8(1)\n",
      "memory usage: 1.5 MB\n"
     ]
    }
   ],
   "source": [
    "print(\"Shape of input data: {} and shape of target variable: {}\".format(X.shape, y.shape))\n",
    "\n",
    "X.head() # Show first 5 training examples\n",
    "X.info()"
   ]
  },
  {
   "cell_type": "code",
   "execution_count": 45,
   "metadata": {},
   "outputs": [],
   "source": [
    "# X=np.array(X)\n",
    "# y=np.array(y)"
   ]
  },
  {
   "cell_type": "code",
   "execution_count": 50,
   "metadata": {},
   "outputs": [
    {
     "data": {
      "text/plain": [
       "array([[40600.],\n",
       "       [45500.],\n",
       "       [43600.],\n",
       "       ...,\n",
       "       [44850.],\n",
       "       [41000.],\n",
       "       [44650.]])"
      ]
     },
     "execution_count": 50,
     "metadata": {},
     "output_type": "execute_result"
    }
   ],
   "source": [
    "# type(y)\n",
    "# y"
   ]
  },
  {
   "cell_type": "code",
   "execution_count": null,
   "metadata": {},
   "outputs": [],
   "source": [
    "# #Reset index\n",
    "# X=X.reset_index()\n",
    "# X.tail()\n",
    "# X.info()"
   ]
  },
  {
   "cell_type": "code",
   "execution_count": null,
   "metadata": {},
   "outputs": [],
   "source": [
    "# y=pd.DataFrame(y)\n",
    "# y.info()"
   ]
  },
  {
   "cell_type": "code",
   "execution_count": 111,
   "metadata": {},
   "outputs": [],
   "source": [
    "from sklearn.model_selection import train_test_split\n",
    "from sklearn import linear_model"
   ]
  },
  {
   "cell_type": "code",
   "execution_count": 124,
   "metadata": {},
   "outputs": [],
   "source": [
    "#Train split test\n",
    "X_train, X_test, y_train, y_test = train_test_split(X, y, test_size = 0.2, random_state = 1)"
   ]
  },
  {
   "cell_type": "code",
   "execution_count": 123,
   "metadata": {},
   "outputs": [],
   "source": [
    "#Random forest\n",
    "from sklearn.ensemble import RandomForestRegressor\n",
    "#biblioteque pour  comparer\n",
    "from sklearn.metrics import r2_score\n",
    "#Randomized search\n",
    "from sklearn.model_selection import RandomizedSearchCV\n",
    "#Gridsearch\n",
    "from sklearn.model_selection import GridSearchCV\n",
    "\n"
   ]
  },
  {
   "cell_type": "code",
   "execution_count": null,
   "metadata": {},
   "outputs": [],
   "source": [
    "# rf = RandomForestRegressor(max_depth=2, random_state=0)\n",
    "# predict_price_test=rf.predict(X_test)\n",
    "# predict_price_train=rf.predict(X_train)\n",
    "\n",
    "# #values.ravel c'est utilise pour arranger l'array \n",
    "# #clf va substituer le rf dans le fit\n",
    "# rf.fit(X_train, y_train.values.ravel())\n",
    "\n",
    "# #Compare y_test(valeur reels) contre valeurs de prix predictes sur X_test\n",
    "# print(\"R2 test :\", r2_score(y_test, predict_price_test))\n",
    "# #la grosse entre les R2 test et train, ça veut dire on a overfitte le modele\n",
    "# print(\"R2 train :\", r2_score(y_train, predict_price_train))\n"
   ]
  },
  {
   "cell_type": "code",
   "execution_count": null,
   "metadata": {},
   "outputs": [],
   "source": [
    "\n",
    "\n",
    "\n",
    "#rf = RandomForestRegressor(n_estimators=1000, max_depth=10) avant randomized search\n",
    "#avec des paramtres a la main\n",
    "\n",
    "rf = RandomForestRegressor()\n",
    "\n",
    "#paramtres pour randomized search et gridsearch\n",
    "n_estimators = [int(x) for x in np.linspace(start=100, stop=200, num=10)]\n",
    "print(\"n_estimators :\", n_estimators)\n",
    "max_features = [None, 'auto', 'sqrt']\n",
    "max_depth = [10, 14, 18]\n",
    "min_samples_split = [2, 3, 4]\n",
    "min_samples_leaf = [1, 2]\n",
    "bootstrap = [True, False]\n",
    "\n",
    "param_grid = {'n_estimators': n_estimators,\n",
    "'max_features': max_features,\n",
    "'max_depth': max_depth,\n",
    "'min_samples_split': min_samples_split,\n",
    "'min_samples_leaf': min_samples_leaf,\n",
    "'bootstrap': bootstrap}\n",
    "#Appel a rds (enlever les commentaires pour lancer le randomizedsearch)\n",
    "# clf = RandomizedSearchCV(estimator=rf, param_distributions=param_grid, verbose=3,\n",
    "# n_jobs=2, return_train_score=True, scoring=\"r2\")\n",
    "\n",
    "#Gridsearch, faut utiliser le randomized plutot\n",
    "clf = GridSearchCV(estimator=rf, param_grid=param_grid, verbose=3,\n",
    "n_jobs=2, return_train_score=True, scoring=\"r2\")\n",
    "\n",
    "#values.ravel c'est utilise pour arranger l'array \n",
    "#clf va substituer le rf dans le fit\n",
    "clf.fit(X_train, y_train.values.ravel())\n",
    "\n",
    "#Meilleures parametres/config\n",
    "print(\"Best params :\", clf.best_params_)\n",
    "\n",
    "#C'est recuperer le meilleur algorithme trouve par randomized search\n",
    "model = clf.best_estimator_\n",
    "\n",
    "model.fit(X_train, y_train.values.ravel())\n",
    "\n",
    "\n",
    "predict_price_test=clf.predict(X_test)\n",
    "predict_price_train=clf.predict(X_train)\n",
    "\n",
    "#Compare y_test(valeur reels) contre valeurs de prix predictes sur X_test\n",
    "print(\"R2 test :\", r2_score(y_test, predict_price_test))\n",
    "#la grosse entre les R2 test et train, ça veut dire on a overfitte le modele\n",
    "print(\"R2 train :\", r2_score(y_train, predict_price_train))\n"
   ]
  },
  {
   "cell_type": "code",
   "execution_count": null,
   "metadata": {},
   "outputs": [],
   "source": []
  },
  {
   "cell_type": "code",
   "execution_count": 82,
   "metadata": {},
   "outputs": [
    {
     "name": "stdout",
     "output_type": "stream",
     "text": [
      "Best params : {'n_estimators': 188, 'min_samples_split': 2, 'min_samples_leaf': 1, 'max_features': 'sqrt', 'max_depth': 18, 'bootstrap': True}\n"
     ]
    }
   ],
   "source": [
    "print(\"Best params :\", clf.best_params_)\n",
    "\n",
    "# n_estimators : [100, 111, 122, 133, 144, 155, 166, 177, 188, 200]\n",
    "# Fitting 5 folds for each of 10 candidates, totalling 50 fits\n",
    "# Best params : {'n_estimators': 155, 'min_samples_split': 4, 'min_samples_leaf': 1, 'max_features': 'sqrt', 'max_depth': 14, 'bootstrap': False}\n",
    "# R2 test : 0.807634935047694\n",
    "# R2 train : 0.9137215657183537\n",
    "\n"
   ]
  },
  {
   "cell_type": "code",
   "execution_count": 114,
   "metadata": {},
   "outputs": [
    {
     "name": "stdout",
     "output_type": "stream",
     "text": [
      "n_estimators : [100, 111, 122, 133, 144, 155, 166, 177, 188, 200]\n",
      "Fitting 5 folds for each of 10 candidates, totalling 50 fits\n",
      "Best params : {'n_estimators': 166, 'min_samples_split': 3, 'min_samples_leaf': 1, 'max_features': 'sqrt', 'max_depth': 18, 'bootstrap': False}\n",
      "R2 test : 0.9445867049395209\n",
      "R2 train : 0.985229603917897\n",
      "\n",
      "Kfold score mean : 93.50155221687093\n",
      "Kfold std deviation : 0.7410390079406897\n",
      "Kfold accuracy for each kfold : [0.94391482 0.92442453 0.92913679 0.94196203 0.93563944]\n",
      "Kfold variance : 5.491388112897214e-05\n"
     ]
    }
   ],
   "source": [
    "\n",
    "# Lets split the data into 5 folds.  \n",
    "# We will use this 'kf'(KFold splitting stratergy) object as input to cross_val_score() method\n",
    "kf =KFold(n_splits=5, shuffle=True, random_state=42)\n",
    "\n",
    "#rf = RandomForestRegressor(n_estimators=1000, max_depth=10) avant randomized search\n",
    "#avec des paramtres a la main\n",
    "\n",
    "rf = RandomForestRegressor()\n",
    "\n",
    "n_estimators = [int(x) for x in np.linspace(start=100, stop=200, num=10)]\n",
    "print(\"n_estimators :\", n_estimators)\n",
    "max_features = [None, 'auto', 'sqrt']\n",
    "max_depth = [10, 14, 18]\n",
    "min_samples_split = [2, 3, 4]\n",
    "min_samples_leaf = [1, 2]\n",
    "bootstrap = [True, False]\n",
    "\n",
    "param_grid = {'n_estimators': n_estimators,\n",
    "'max_features': max_features,\n",
    "'max_depth': max_depth,\n",
    "'min_samples_split': min_samples_split,\n",
    "'min_samples_leaf': min_samples_leaf,\n",
    "'bootstrap': bootstrap}\n",
    "#Appel a rds (enlever les commentaires pour lancer le randomizedsearch)\n",
    "clf = RandomizedSearchCV(estimator=rf, param_distributions=param_grid, verbose=3,\n",
    "n_jobs=2, return_train_score=True, scoring=\"r2\", cv=kf)\n",
    "\n",
    "# #Gridsearch, faut utiliser le randomized plutot\n",
    "# clf = GridSearchCV(estimator=rf, param_grid=param_grid, verbose=3,\n",
    "# n_jobs=2, return_train_score=True, scoring=\"r2\")\n",
    "\n",
    "#values.ravel c'est utilise pour arranger l'array \n",
    "#clf va substituer le rf dans le fit\n",
    "clf.fit(X_train, y_train.values.ravel())\n",
    "\n",
    "#Meilleures parametres/config\n",
    "print(\"Best params :\", clf.best_params_)\n",
    "\n",
    "#C'est recuperer le meilleur algorithme trouve par randomized search\n",
    "model = clf.best_estimator_\n",
    "\n",
    "model.fit(X_train, y_train.values.ravel())\n",
    "\n",
    "\n",
    "predict_price_test=clf.predict(X_test)\n",
    "predict_price_train=clf.predict(X_train)\n",
    "\n",
    "#Compare y_test(valeur reels) contre valeurs de prix predictes sur X_test\n",
    "print(\"R2 test :\", r2_score(y_test, predict_price_test))\n",
    "#la grosse entre les R2 test et train, ça veut dire on a overfitte le modele\n",
    "print(\"R2 train :\", r2_score(y_train, predict_price_train))\n",
    "\n",
    "#lie au kfold\n",
    "score = cross_val_score(model, X_train, y_train.values.ravel(), cv=kf, scoring=\"r2\")\n",
    "print(\"\\nKfold score mean :\", score.mean() * 100.0)\n",
    "print(\"Kfold std deviation :\", score.std() * 100.0)\n",
    "print(\"Kfold accuracy for each kfold :\", score)\n",
    "print(\"Kfold variance :\", score.var())"
   ]
  },
  {
   "cell_type": "code",
   "execution_count": 115,
   "metadata": {},
   "outputs": [
    {
     "data": {
      "text/plain": [
       "Text(0.5, 0, 'Relative Importance')"
      ]
     },
     "execution_count": 115,
     "metadata": {},
     "output_type": "execute_result"
    },
    {
     "data": {
      "image/png": "[encoded data removed]",
      "text/plain": [
       "<Figure size 432x288 with 1 Axes>"
      ]
     },
     "metadata": {
      "needs_background": "light"
     },
     "output_type": "display_data"
    }
   ],
   "source": [
    "liste_variables=list(X.columns)\n",
    "importances = model.feature_importances_ #infos donnes par randomforest\n",
    "indices = np.argsort(importances)\n",
    "plt.style.use('fivethirtyeight')\n",
    "%matplotlib inline\n",
    "plt.figure(1)\n",
    "plt.title('Feature Importances')\n",
    "plt.barh(range(len(indices)), importances[indices], color='b', align='center')\n",
    "plt.yticks(range(len(indices)), [liste_variables[i] for i in indices])\n",
    "plt.xlabel('Relative Importance')"
   ]
  }
 ],
 "metadata": {
  "kernelspec": {
   "display_name": "Python 3",
   "language": "python",
   "name": "python3"
  },
  "language_info": {
   "codemirror_mode": {
    "name": "ipython",
    "version": 3
   },
   "file_extension": ".py",
   "mimetype": "text/x-python",
   "name": "python",
   "nbconvert_exporter": "python",
   "pygments_lexer": "ipython3",
   "version": "3.8.5"
  }
 },
 "nbformat": 4,
 "nbformat_minor": 4
}
